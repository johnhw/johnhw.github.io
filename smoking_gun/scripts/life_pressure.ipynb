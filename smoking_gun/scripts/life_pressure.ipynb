{
 "cells": [
  {
   "cell_type": "code",
   "execution_count": null,
   "metadata": {},
   "outputs": [],
   "source": [
    "import numpy as np\n",
    "import matplotlib.pyplot as plt\n",
    "import imageio\n",
    "%matplotlib inline\n",
    "from life_utils import to_numpy, autoguess_life_file, zpad, life_numpy\n",
    "from life_anim import load_lif, make_gif, life_anim, show_lif, get_cmap\n",
    "import IPython.display\n",
    "import scipy.ndimage"
   ]
  },
  {
   "cell_type": "code",
   "execution_count": null,
   "metadata": {},
   "outputs": [],
   "source": [
    "pat = load_lif(\"patterns/gun30.lif\")\n",
    "anim = life_anim(pat, 240, pad=15, boundary=\"fill\")"
   ]
  },
  {
   "cell_type": "code",
   "execution_count": null,
   "metadata": {},
   "outputs": [],
   "source": [
    "make_gif(anim, fps=10, translate=(-0.25, -0.25), label=\"Translating\")"
   ]
  },
  {
   "cell_type": "code",
   "execution_count": null,
   "metadata": {},
   "outputs": [],
   "source": [
    "from __future__ import print_function, division\n",
    "import numpy as np\n",
    "import matplotlib as mpl\n",
    "import matplotlib.pyplot as plt\n",
    "%matplotlib inline"
   ]
  },
  {
   "cell_type": "code",
   "execution_count": null,
   "metadata": {},
   "outputs": [],
   "source": [
    "## Parameters\n",
    "\n",
    "nu_f = 0.01  # viscosity\n",
    "rho_0 = 1.0 # initial density"
   ]
  },
  {
   "cell_type": "code",
   "execution_count": null,
   "metadata": {},
   "outputs": [],
   "source": [
    "## Dimensions\n",
    "\n",
    "t_scale = 1\n",
    "nt = len(anim) * t_scale  # time steps\n",
    "nx = anim[0].shape[1]  # dimensions\n",
    "nz = anim[1].shape[1]"
   ]
  },
  {
   "cell_type": "code",
   "execution_count": null,
   "metadata": {},
   "outputs": [],
   "source": [
    "c = np.array(\n",
    "    [[0, 0], [1, 0], [-1, 0], [0, 1], [0, -1], [1, 1], [-1, -1], [1, -1], [-1, 1]]\n",
    ")\n",
    "ai = np.array([0, 2, 1, 4, 3, 6, 5, 8, 7])  # inverse indices\n",
    "\n",
    "na = 9  # connections (velocities)\n",
    "D = 2  # dimension\n",
    "\n",
    "# weights\n",
    "w0 = 4.0 / 9.0\n",
    "w1 = 1.0 / 9.0\n",
    "w2 = 1.0 / 36.0\n",
    "w = np.array([w0, w1, w1, w1, w1, w2, w2, w2, w2])\n",
    "\n",
    "dt = 1\n",
    "dx = 1\n",
    "S = dx / dt\n",
    "c1 = 1.0\n",
    "c2 = 3.0 / (S ** 2)\n",
    "c3 = 9.0 / (2.0 * S ** 4)\n",
    "c4 = -3.0 / (2.0 * S ** 2)\n",
    "\n",
    "tau_f = nu_f * 3.0 / (S * dt) + 0.5\n",
    "\n",
    "# allocate matrices\n",
    "f = np.zeros((na, nz, nx))\n",
    "f_stream = np.zeros((na, nz, nx))\n",
    "f_eq = np.zeros((na, nz, nx))\n",
    "Delta_f = np.zeros((na, nz, nx))\n",
    "rho = np.ones((nz, nx))  # density\n",
    "u = np.zeros((D, nz, nx))  # velocity\n",
    "Pi = np.zeros((D, nz, nx))\n",
    "u2 = np.zeros((D, nz, nx))\n",
    "cu = np.zeros((D, nz, nx))\n",
    "solid = np.zeros((na, nz, nx))\n",
    "\n",
    "#solid[[1,5,7], 20:35, :] = 1.0\n",
    "\n",
    "# set up initial density\n",
    "rho[:] = rho_0\n",
    "\n",
    "xs,zs = np.meshgrid(np.arange(nx), np.arange(nz))\n",
    "\n",
    "for a in range(na):\n",
    "    f[a] = rho * w[a]\n",
    "\n",
    "    # vector indices\n",
    "indexes = np.zeros((na, nx * nz), dtype=np.uint32)\n",
    "for a in range(na):\n",
    "    xArr = (np.arange(nx) - c[a][0] + nx) % nx\n",
    "    zArr = (np.arange(nz) - c[a][1] + nx) % nz    \n",
    "    \n",
    "    xInd, zInd = np.meshgrid(xArr, zArr)\n",
    "    indTotal = zInd * nx + xInd\n",
    "    indexes[a] = indTotal.reshape(nx * nz)"
   ]
  },
  {
   "cell_type": "code",
   "execution_count": null,
   "metadata": {},
   "outputs": [],
   "source": [
    "\n",
    "frames = []\n",
    "\n",
    "for t in np.arange(nt + 1):\n",
    "    \n",
    "    frame_ix = int(t / t_scale)\n",
    "    \n",
    "    diff = anim[frame_ix-1] - anim[frame_ix-2]\n",
    "    \n",
    "    \n",
    "    # periodic boundary conditions\n",
    "    f[:, :, 0] = f[:, :, -2]\n",
    "    f[:, :, -1] = f[:, :, 1]\n",
    "    \n",
    "    # solid[:, :diff.shape[0], :diff.shape[1]] = anim[frame_ix-1]\n",
    "    \n",
    "    # stream\n",
    "    for a in range(na):\n",
    "        f_new = f[a].reshape(nx * nz)[indexes[a]]\n",
    "        f_bounce = f[ai[a]]\n",
    "        f_stream[a] = solid[a] * f_bounce + (1 - solid[a]) * f_new.reshape(nz, nx)\n",
    "    f = f_stream.copy()\n",
    "\n",
    "    # rho and u\n",
    "    rho = np.sum(f, axis=0)\n",
    "    rho[:diff.shape[0], :diff.shape[1]] += diff * 0.1\n",
    "    Pi = np.einsum(\"azx, ad->dzx\", f, c)\n",
    "    u[0:D] = Pi[0:D] / rho\n",
    "\n",
    "    # equilibrium distiribtion\n",
    "    u2 = u[0] ** 2 + u[1] ** 2\n",
    "    for a in range(na):\n",
    "        cu = c[a][0] * u[0] + c[a][1] * u[1]\n",
    "        f_eq[a] = rho * w[a] * (c1 + c2 * cu + c3 * cu ** 2 + c4 * u2)\n",
    "\n",
    "    # collision\n",
    "    Delta_f = (f_eq - f) / tau_f\n",
    "    f += Delta_f\n",
    "    frames.append(np.array(rho))"
   ]
  },
  {
   "cell_type": "code",
   "execution_count": null,
   "metadata": {},
   "outputs": [],
   "source": [
    "plt.imshow(frames[120])"
   ]
  },
  {
   "cell_type": "code",
   "execution_count": null,
   "metadata": {},
   "outputs": [],
   "source": [
    "f = np.array(frames)\n",
    "cm = get_cmap('viridis')\n",
    "make_gif(cm(f*0.5), fps=60)"
   ]
  },
  {
   "cell_type": "code",
   "execution_count": null,
   "metadata": {},
   "outputs": [],
   "source": []
  }
 ],
 "metadata": {
  "kernelspec": {
   "display_name": "Python 3",
   "language": "python",
   "name": "python3"
  },
  "language_info": {
   "codemirror_mode": {
    "name": "ipython",
    "version": 3
   },
   "file_extension": ".py",
   "mimetype": "text/x-python",
   "name": "python",
   "nbconvert_exporter": "python",
   "pygments_lexer": "ipython3",
   "version": "3.7.3"
  }
 },
 "nbformat": 4,
 "nbformat_minor": 2
}
