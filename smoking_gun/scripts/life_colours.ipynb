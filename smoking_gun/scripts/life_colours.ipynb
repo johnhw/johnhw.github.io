{
 "cells": [
  {
   "cell_type": "code",
   "execution_count": null,
   "metadata": {},
   "outputs": [],
   "source": [
    "import numpy as np\n",
    "import matplotlib.pyplot as plt\n",
    "import imageio\n",
    "%matplotlib inline\n",
    "from life_utils import to_numpy, autoguess_life_file, zpad, life_numpy\n",
    "import IPython.display\n",
    "import scipy.ndimage"
   ]
  },
  {
   "cell_type": "code",
   "execution_count": null,
   "metadata": {},
   "outputs": [],
   "source": [
    "\n",
    "def load_lif(fname):\n",
    "    \"\"\"Return the given life file as a numpy array\"\"\"\n",
    "    return to_numpy(autoguess_life_file(fname)[0])\n",
    "\n",
    "def show_lif(np_cells):\n",
    "    \"\"\"Show a life file as a grayscale image\"\"\"\n",
    "    fig, ax = plt.subplots()\n",
    "    ax.imshow(np_cells, cmap='gray')\n",
    "    ax.set_aspect(1.0)\n",
    "    ax.axis(\"off\")\n",
    "\n",
    "def blit(dest, src, loc):\n",
    "    \"\"\"Copy src to dest, with an offset given by loc, cropping the\n",
    "    src as required\"\"\"\n",
    "    # from https://stackoverflow.com/questions/28676187/numpy-blit-copy-part-of-an-array-to-another-one-with-a-different-size    \n",
    "    pos = [i if i >= 0 else None for i in loc]\n",
    "    neg = [-i if i < 0 else None for i in loc]\n",
    "    target = dest[[slice(i,None) for i in pos]]\n",
    "    src = src[[slice(i, j) for i,j in zip(neg, target.shape)]]\n",
    "    target[[slice(None, i) for i in src.shape]] = src    \n",
    "    return dest\n",
    "\n",
    "def apply_subpixel_translate(np_cell_anim, translate, scale):        \n",
    "    \"\"\"Translate each frame of np_cell_anim by translate (fractional)\n",
    "    multiplied by scale\"\"\"\n",
    "    imgs = []\n",
    "    dx, dy = 0, 0 \n",
    "    img = np.zeros_like(np_cell_anim[0,:,:,:])                    \n",
    "    for i in range(np_cell_anim.shape[0]):\n",
    "        dx, dy = dx+translate[0], dy+translate[1]            \n",
    "        img = img * 0\n",
    "        imgs.append(blit(img, np_cell_anim[i], (int(dy*scale), int(dx*scale), 0)))            \n",
    "    return np.array(imgs)\n",
    "            \n",
    "def make_gif(np_cell_anim, fname=\"temp.gif\", fps=1, scale=None, target_px=512, translate=None):     \n",
    "    \"\"\"Turn a sequence of floating point images into a gif, and return it. Optionally, scale\n",
    "    and translate the image\"\"\"\n",
    "    np_cell_anim = np.array(np_cell_anim)\n",
    "    # autoscale to target size if no scale given\n",
    "    if scale is None:\n",
    "        largest = np.max(np_cell_anim.shape)\n",
    "        scale = target_px // largest    \n",
    "        \n",
    "    # rescale and convert to uint8 3 channel colour\n",
    "    if len(np_cell_anim.shape)==3:\n",
    "        np_cell_anim = np.tile(np_cell_anim[:,:,:,None], (1,1,1,3))        \n",
    "    np_cell_anim = scipy.ndimage.zoom(np_cell_anim, (1, scale, scale, 1), order=0)\n",
    "    \n",
    "    if translate is not None:\n",
    "        np_cell_anim = apply_subpixel_translate(np_cell_anim, translate, scale)\n",
    "    np_cell_anim = (np.clip(np_cell_anim, 0, 1) * 255.0).astype(np.uint8)\n",
    "    \n",
    "    imageio.mimsave(fname, np_cell_anim, fps=fps)\n",
    "    # return image for easy notebook display\n",
    "    return IPython.display.Image(filename=fname, width=\"50%\")\n",
    "\n",
    "def life_anim(np_cells, n, pad=0, boundary=\"wrap\"):\n",
    "    \"\"\"Animate running the Game of Life  on\n",
    "    an initial pattern np_cells\n",
    "    and return a [n, w, h] cell array\"\"\"\n",
    "    np_cells = zpad(np_cells, pad)\n",
    "    np_cells_anim = []\n",
    "    for i in range(n):\n",
    "        np_cells_anim.append(life_numpy(np_cells))\n",
    "        np_cells = life_numpy(np_cells, boundary=boundary)\n",
    "    return np_cells_anim\n",
    "\n",
    "pat = load_lif(\"patterns/largefish.l\")\n",
    "make_gif(life_anim(pat, 8, pad=5), fps=8, translate=(0.5, 0))\n"
   ]
  },
  {
   "cell_type": "code",
   "execution_count": null,
   "metadata": {},
   "outputs": [],
   "source": [
    "def strobe(np_cells_anim, period, decay, base=0.0, phase=0):        \n",
    "    frames = []\n",
    "    persistence = np.zeros_like(np_cells_anim[0])\n",
    "    for frame in np_cells_anim:        \n",
    "        if phase % period==0:                        \n",
    "            persistence += frame                    \n",
    "        frames.append(frame * base  + persistence)\n",
    "        phase += 1\n",
    "        persistence = persistence * decay        \n",
    "    return frames"
   ]
  },
  {
   "cell_type": "code",
   "execution_count": null,
   "metadata": {},
   "outputs": [],
   "source": [
    "pat = load_lif(\"patterns/gun30.lif\")\n",
    "make_gif(strobe(life_anim(pat, 120, pad=6, boundary=\"fill\"), 4, 0.7, base=0.1), fps=30, translate=(0.0, 0))\n"
   ]
  },
  {
   "cell_type": "code",
   "execution_count": null,
   "metadata": {},
   "outputs": [],
   "source": []
  }
 ],
 "metadata": {
  "kernelspec": {
   "display_name": "Python 3",
   "language": "python",
   "name": "python3"
  },
  "language_info": {
   "codemirror_mode": {
    "name": "ipython",
    "version": 3
   },
   "file_extension": ".py",
   "mimetype": "text/x-python",
   "name": "python",
   "nbconvert_exporter": "python",
   "pygments_lexer": "ipython3",
   "version": "3.7.3"
  }
 },
 "nbformat": 4,
 "nbformat_minor": 2
}
