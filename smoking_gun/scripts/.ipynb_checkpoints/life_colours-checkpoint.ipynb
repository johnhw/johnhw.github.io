{
 "cells": [
  {
   "cell_type": "code",
   "execution_count": null,
   "metadata": {},
   "outputs": [],
   "source": [
    "import numpy as np\n",
    "import matplotlib.pyplot as plt\n",
    "import imageio\n",
    "%matplotlib inline\n",
    "from life_utils import to_numpy, autoguess_life_file, zpad, life_numpy\n",
    "import IPython.display\n",
    "import scipy.ndimage"
   ]
  },
  {
   "cell_type": "code",
   "execution_count": null,
   "metadata": {},
   "outputs": [],
   "source": [
    "%load_ext autoreload\n",
    "%autoreload 2\n"
   ]
  },
  {
   "cell_type": "code",
   "execution_count": null,
   "metadata": {},
   "outputs": [],
   "source": [
    "from life_anim import load_lif, make_gif, life_anim, show_lif, get_cmap\n",
    "pat = load_lif(\"patterns/largefish.l\")\n",
    "make_gif(life_anim(pat, 8, pad=4), fps=5, translate=(0.5, 0), label=\"Translating\")\n"
   ]
  },
  {
   "cell_type": "code",
   "execution_count": null,
   "metadata": {},
   "outputs": [],
   "source": [
    "pat = load_lif(\"patterns/gun30.lif\")\n",
    "anim = life_anim(pat, 120, pad=10, boundary=\"fill\")"
   ]
  },
  {
   "cell_type": "code",
   "execution_count": null,
   "metadata": {},
   "outputs": [],
   "source": [
    "\n",
    "def longevity(np_cells_anim, cmap='gray', max_longevity=30):\n",
    "    cm = get_cmap(cmap)\n",
    "    alive_time = np.zeros_like(np_cells_anim[0])\n",
    "    frames = []\n",
    "    for frame in np_cells_anim:\n",
    "        alive_time *= frame # clear dead cells\n",
    "        alive_time += frame # and add living ones\n",
    "        frames.append(cm(alive_time/max_longevity) * frame[:,:,None])        \n",
    "    return frames[max_longevity:]\n",
    "        \n",
    "\n",
    "make_gif(longevity(anim, cmap='plasma'), fps=30, label=\"Longevity\")\n"
   ]
  },
  {
   "cell_type": "code",
   "execution_count": null,
   "metadata": {},
   "outputs": [],
   "source": [
    "def fading(np_cells_anim, cmap='gray', decay=0.9, accum=1.0):\n",
    "    cm = get_cmap(cmap)\n",
    "    decayed = np.zeros_like(np_cells_anim[0])\n",
    "    frames = []\n",
    "    for frame in np_cells_anim:\n",
    "        decayed = decayed * decay        \n",
    "        decayed += frame * accum # and add living ones\n",
    "        frames.append(cm(decayed + frame))      \n",
    "    return frames\n",
    "        \n",
    "make_gif(fading(anim, cmap='magma', accum=0.25, decay=0.8), fps=30, label=\"Fading\")        "
   ]
  },
  {
   "cell_type": "code",
   "execution_count": null,
   "metadata": {},
   "outputs": [],
   "source": [
    "kernel = np.ones((3,3))\n",
    "\n",
    "def ncount(np_cells_anim, cmap='gray', ctr=1.0):\n",
    "    cm = get_cmap(cmap)\n",
    "    decayed = np.zeros_like(np_cells_anim[0])\n",
    "    frames = []\n",
    "    for frame in np_cells_anim:\n",
    "        count = scipy.signal.convolve2d(frame, kernel, mode='same', boundary='fill')        \n",
    "        frames.append(cm((1-ctr) * count/8 + ctr * frame))      \n",
    "    return frames\n",
    "        \n",
    "make_gif(ncount(anim, cmap='bmy', ctr=0.25), fps=30, label=\"Neighbours\") "
   ]
  },
  {
   "cell_type": "code",
   "execution_count": null,
   "metadata": {},
   "outputs": [],
   "source": [
    "def life_death(np_cells_anim, cmap='gray'):\n",
    "    cm = get_cmap(cmap)\n",
    "    state = np_cells_anim[0]\n",
    "    frames = []\n",
    "    for frame in np_cells_anim[1:]:\n",
    "        value = (state + frame * 0.5) / 1.5\n",
    "        state = frame\n",
    "        frames.append(cm(value))\n",
    "    return frames\n",
    "\n",
    "make_gif(life_death(anim, cmap='magma'), fps=10, label=\"Birth/Death\")         \n",
    "        "
   ]
  },
  {
   "cell_type": "code",
   "execution_count": null,
   "metadata": {},
   "outputs": [],
   "source": [
    "def checker(np_cells_anim, cmap=\"gray\"):\n",
    "    cm = get_cmap(cmap)\n",
    "    frames = []\n",
    "    checker_a = np.zeros_like(np_cells_anim[0]).astype(np.float64)        \n",
    "    checker_a[::2, :] += 0.5               \n",
    "    checker_a[:, ::2] += 0.5           \n",
    "    for i,frame in enumerate(np_cells_anim):\n",
    "        frames.append(cm((checker_a*0.5+0.5) * frame))\n",
    "    return frames\n",
    "\n",
    "make_gif(checker(anim, cmap='bmy'), fps=30, label=\"Checker\")  "
   ]
  },
  {
   "cell_type": "code",
   "execution_count": null,
   "metadata": {},
   "outputs": [],
   "source": [
    "from skimage.util.shape import view_as_windows\n",
    "\n",
    "def local_heat(np_cells_anim, cmap='gray', win=3):\n",
    "    cm = get_cmap(cmap)\n",
    "    np_cells_anim = np.array(np_cells_anim)\n",
    "    windowed = view_as_windows(np_cells_anim, (1, win, win))[:,:,:,0,:,:]\n",
    "    heat = np.mean(np.abs(np.diff(windowed, axis=0)), axis=(0, -1,-2))        \n",
    "    frames = []\n",
    "    for frame in np_cells_anim:        \n",
    "        frames.append(cm(heat))#*frame[win//2:-(win//2), win//2:-(win//2)]))\n",
    "    return frames\n",
    "\n",
    "make_gif(local_heat(anim, win=3, cmap='bmy'), fps=30, label=\"Local heat\") "
   ]
  },
  {
   "cell_type": "code",
   "execution_count": null,
   "metadata": {},
   "outputs": [],
   "source": [
    "from skimage.util.shape import view_as_blocks\n",
    "\n",
    "def block2_color(np_cells_anim, win=2, cmap='gray'):\n",
    "    cm = get_cmap(cmap)        \n",
    "    np_cells_anim = np.array(np_cells_anim)\n",
    "    np_cells_anim = np.pad(np_cells_anim,\n",
    "                           ((0,0),\n",
    "                            (win-(np_cells_anim.shape[1]%win), 0),\n",
    "                            (win-(np_cells_anim.shape[2]%win), 0)),\n",
    "                            mode=\"constant\")\n",
    "        \n",
    "    windowed = view_as_blocks(np_cells_anim, (1, win, win))[:,:,:,0,:,:]\n",
    "    mat = 2**np.arange(win*win).reshape(win,win) / (2**(win*win)-1)    \n",
    "    frames = []\n",
    "    for frame in windowed:        \n",
    "        coded = np.sum(frame * mat, axis=(-2, -1))\n",
    "        frames.append(cm(coded))\n",
    "    return frames\n",
    "\n",
    "make_gif(block2_color(anim,  cmap='bmy', win=2), fps=30, label=\"2x2 coloring\") "
   ]
  },
  {
   "cell_type": "code",
   "execution_count": null,
   "metadata": {},
   "outputs": [],
   "source": [
    "\n",
    "\n",
    "def stride_color(np_cells_anim, win=3, cmap='gray'):    \n",
    "    cm = get_cmap(cmap)\n",
    "    np_cells_anim = np.array(np_cells_anim)\n",
    "    windowed = view_as_windows(np_cells_anim, (1, win, win))[:,:,:,0,:,:]\n",
    "    \n",
    "    mat = 2**np.arange(win*win).reshape(win,win) / (2**(win*win)-1.0)    \n",
    "    frames = []\n",
    "    for frame in windowed:        \n",
    "        coded = np.sum(frame * mat, axis=(-2, -1))\n",
    "        density = np.sum(frame+0.1, axis=(-2, -1)) / (win**2)        \n",
    "        frames.append(cm(coded) * density[:,:,None])\n",
    "    return frames\n",
    "\n",
    "make_gif(stride_color(anim,  cmap='CET_I2', win=3), fps=30, label=\"3x3 overlapped coloring\") "
   ]
  },
  {
   "cell_type": "code",
   "execution_count": null,
   "metadata": {},
   "outputs": [],
   "source": [
    "def lzw_len(uncompressed):    \n",
    "    dict_size = 2\n",
    "    dictionary = {0:0, 1:1}        \n",
    "    w = []    \n",
    "    count = 0\n",
    "    for c in uncompressed:\n",
    "        wc = w + [c]\n",
    "        if tuple(wc) in dictionary:\n",
    "            w = wc\n",
    "        else:            \n",
    "            count += 1\n",
    "            # Add wc to the dictionary.\n",
    "            dictionary[tuple(wc)] = dict_size\n",
    "            dict_size += 1\n",
    "            w = [c]     \n",
    "    return count\n",
    "\n",
    "def entropy(np_cells_anim, cmap):\n",
    "    np_cells_anim = np.array(np_cells_anim)\n",
    "    strips = np_cells_anim.reshape(np_cells_anim.shape[0], -1)\n",
    "    cm = get_cmap(cmap)\n",
    "    entropies = []\n",
    "    for strip in strips.T:        \n",
    "        entropies.append(lzw_len(strip))\n",
    "    entropies = np.array(entropies).reshape(np_cells_anim.shape[1:])\n",
    "    entropies = entropies - np.min(entropies)\n",
    "    entropies = entropies / np.max(entropies)\n",
    "    \n",
    "    return [cm(entropies) for frame in np_cells_anim]\n",
    "\n",
    "pat = load_lif(\"patterns/gun30.lif\")\n",
    "make_gif(entropy(anim, cmap='magma'), fps=30, label=\"LZW entropy\")    "
   ]
  },
  {
   "cell_type": "code",
   "execution_count": null,
   "metadata": {},
   "outputs": [],
   "source": [
    "def np_period(s):\n",
    "    ss = np.concatenate([s, s], axis=0)\n",
    "    has_p = np.ones_like(s[0]) * np.inf        \n",
    "    for i in range(1, s.shape[0]):                \n",
    "        mask = np.all(ss[i:i+len(s)]==s, axis=0)                \n",
    "        has_p[mask] = np.minimum(has_p[mask], i)            \n",
    "    return has_p"
   ]
  },
  {
   "cell_type": "code",
   "execution_count": null,
   "metadata": {},
   "outputs": [],
   "source": [
    "def period(np_cells_anim, cmap):            \n",
    "    cm = get_cmap(cmap)\n",
    "    period = np_period(np.array(np_cells_anim))    #*frame[:,:,None]\n",
    "    return [cm(period/np.max(period[np.isfinite(period)])) for frame in np_cells_anim]\n",
    "\n",
    "pat = load_lif(\"patterns/gun30.lif\")\n",
    "make_gif(period(anim, cmap='magma'), fps=30, label=\"Periodicity\")"
   ]
  },
  {
   "cell_type": "code",
   "execution_count": null,
   "metadata": {},
   "outputs": [],
   "source": [
    "def strobe(np_cells_anim, period, decay, base=0.0, phase=0):        \n",
    "    frames = []\n",
    "    persistence = np.zeros_like(np_cells_anim[0])\n",
    "    for frame in np_cells_anim:        \n",
    "        if phase % period==0:                        \n",
    "            persistence += frame                    \n",
    "        frames.append(frame * base  + persistence)\n",
    "        phase += 1\n",
    "        persistence = persistence * decay        \n",
    "    return frames"
   ]
  },
  {
   "cell_type": "code",
   "execution_count": null,
   "metadata": {},
   "outputs": [],
   "source": [
    "make_gif(strobe(anim, 4, 0.7, base=0.1), fps=60, translate=(0.0, 0), label=\"Strobe\")\n"
   ]
  },
  {
   "cell_type": "code",
   "execution_count": null,
   "metadata": {},
   "outputs": [],
   "source": []
  }
 ],
 "metadata": {
  "kernelspec": {
   "display_name": "Python 3",
   "language": "python",
   "name": "python3"
  },
  "language_info": {
   "codemirror_mode": {
    "name": "ipython",
    "version": 3
   },
   "file_extension": ".py",
   "mimetype": "text/x-python",
   "name": "python",
   "nbconvert_exporter": "python",
   "pygments_lexer": "ipython3",
   "version": "3.7.3"
  },
  "varInspector": {
   "cols": {
    "lenName": 16,
    "lenType": 16,
    "lenVar": 40
   },
   "kernels_config": {
    "python": {
     "delete_cmd_postfix": "",
     "delete_cmd_prefix": "del ",
     "library": "var_list.py",
     "varRefreshCmd": "print(var_dic_list())"
    },
    "r": {
     "delete_cmd_postfix": ") ",
     "delete_cmd_prefix": "rm(",
     "library": "var_list.r",
     "varRefreshCmd": "cat(var_dic_list()) "
    }
   },
   "types_to_exclude": [
    "module",
    "function",
    "builtin_function_or_method",
    "instance",
    "_Feature"
   ],
   "window_display": false
  }
 },
 "nbformat": 4,
 "nbformat_minor": 2
}
