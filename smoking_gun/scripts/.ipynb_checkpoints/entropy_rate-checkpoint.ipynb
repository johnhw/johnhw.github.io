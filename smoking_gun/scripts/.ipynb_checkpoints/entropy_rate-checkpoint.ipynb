{
 "cells": [
  {
   "cell_type": "code",
   "execution_count": 35,
   "metadata": {
    "ExecuteTime": {
     "end_time": "2020-03-20T12:12:48.745724Z",
     "start_time": "2020-03-20T12:12:48.734483Z"
    }
   },
   "outputs": [
    {
     "name": "stdout",
     "output_type": "stream",
     "text": [
      "[[1.  0.  0.  0. ]\n",
      " [0.  1.  0.  0. ]\n",
      " [0.  0.  1.  0. ]\n",
      " [0.  0.  0.5 0.5]]\n",
      "(2.248368544895303, 0.20343294766599607)\n"
     ]
    }
   ],
   "source": [
    "import numpy as np\n",
    "from sklearn.metrics import confusion_matrix\n",
    "from collections import defaultdict\n",
    "\n",
    "\n",
    "def itr(confusion_matrix, timings, eps=1e-6):\n",
    "    \"\"\"Take a confusion matrix of the form\n",
    "                     (actual) a   b   c   d \n",
    "    (intended)                \n",
    "         a                     10  0   1   9\n",
    "         b                     2  11  7   2\n",
    "         c                     0   0  15  0 \n",
    "         d                     5   3  12  9\n",
    "         \n",
    "    and a list of the average time to specify each class a,b,c,d,...\n",
    "    \n",
    "    return the average information transfer rate and the standard deviation\n",
    "    \"\"\"\n",
    "    norm_matrix = (confusion_matrix.T / np.sum(confusion_matrix, axis=1)).T    \n",
    "    entropy = norm_matrix * np.log2(norm_matrix + eps)\n",
    "    max_entropy = np.log2(len(confusion_matrix))        \n",
    "    bps_per_class = (max_entropy - entropy) / timings    \n",
    "    return np.mean(bps_per_class), np.std(bps_per_class)\n",
    "\n",
    "\n",
    "## Example of use\n",
    "\n",
    "# data in the form (intended_class, actual_class, duration_seconds)\n",
    "example_data = [\n",
    "    (0, 0, 0.5),\n",
    "    (1, 1, 0.54),\n",
    "    (3, 3, 0.53),\n",
    "    (3, 2, 0.44),\n",
    "    (1, 1, 0.42),\n",
    "    (0, 0, 0.33),\n",
    "    (2, 2, 0.92),\n",
    "]\n",
    "\n",
    "# compute confusion matrix\n",
    "confusion = confusion_matrix(\n",
    "    y_true=[intended for (intended, actual, duration) in example_data],\n",
    "    y_pred=[actual for (intended, actual, duration) in example_data],\n",
    ")\n",
    "\n",
    "## compute average duration of each class\n",
    "times = defaultdict(float)\n",
    "n = defaultdict(int)\n",
    "for intended, actual, duration in example_data:\n",
    "    times[intended] += duration\n",
    "    counts[intended] += duration\n",
    "mean_duration = [times.get(i, 0) / n.get(i, 1) for i in range(len(confusion))]\n",
    "\n",
    "## show mean and std. itr\n",
    "print(itr(confusion, mean_duration))"
   ]
  },
  {
   "cell_type": "code",
   "execution_count": null,
   "metadata": {},
   "outputs": [],
   "source": []
  }
 ],
 "metadata": {
  "kernelspec": {
   "display_name": "Python 3",
   "language": "python",
   "name": "python3"
  },
  "language_info": {
   "codemirror_mode": {
    "name": "ipython",
    "version": 3
   },
   "file_extension": ".py",
   "mimetype": "text/x-python",
   "name": "python",
   "nbconvert_exporter": "python",
   "pygments_lexer": "ipython3",
   "version": "3.7.3"
  }
 },
 "nbformat": 4,
 "nbformat_minor": 2
}
