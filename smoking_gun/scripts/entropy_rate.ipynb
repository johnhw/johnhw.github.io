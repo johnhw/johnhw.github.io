{
 "cells": [
  {
   "cell_type": "code",
   "execution_count": 117,
   "metadata": {
    "ExecuteTime": {
     "end_time": "2020-03-20T13:13:10.141880Z",
     "start_time": "2020-03-20T13:13:10.130168Z"
    }
   },
   "outputs": [
    {
     "name": "stdout",
     "output_type": "stream",
     "text": [
      "(1.7500000180336879, 0.4330126956451666)\n"
     ]
    }
   ],
   "source": [
    "import numpy as np\n",
    "from sklearn.metrics import confusion_matrix\n",
    "from collections import defaultdict\n",
    "\n",
    "\n",
    "def itr(confusion_matrix, timings, eps=1e-8):\n",
    "    \"\"\"Take a confusion matrix of the form\n",
    "                     (actual) a   b   c   d \n",
    "    (intended)                \n",
    "         a                     10  0   1   9\n",
    "         b                     2  11  7   2\n",
    "         c                     0   0  15  0 \n",
    "         d                     5   3  12  9\n",
    "         \n",
    "    and a list of the average time to specify each class a,b,c,d,...\n",
    "    \n",
    "    Maximum entropy is log2(n_classes)\n",
    "    Residual entropy in each class is sum(p * log2(p))\n",
    "    We compute (max entropy - residual_entropy) and divide by the time per intended class\n",
    "    to get approximate maximum possible ITR\n",
    "    \n",
    "    return the average information transfer rate and the standard deviation\n",
    "    \"\"\"\n",
    "    norm_matrix = (confusion_matrix.T / np.sum(confusion_matrix, axis=1)).T       \n",
    "    entropy = np.sum(norm_matrix * np.log2(norm_matrix + eps), axis=1)            \n",
    "    max_entropy = np.log2(len(confusion_matrix))                  \n",
    "    bps_per_class = (max_entropy + entropy) / timings     \n",
    "    return np.mean(bps_per_class), np.std(bps_per_class)\n",
    "\n",
    "\n",
    "## Example of use\n",
    "\n",
    "# data in the form (intended_class, detected_class, duration_seconds)\n",
    "example_data = [\n",
    "    (0, 0, 0.5),\n",
    "    (1, 1, 0.54),\n",
    "    (3, 3, 0.53),\n",
    "    (3, 2, 0.44),\n",
    "    (1, 1, 0.42),\n",
    "    (0, 0, 0.33),\n",
    "    (2, 2, 0.92),\n",
    "]\n",
    "\n",
    "# compute confusion matrix\n",
    "confusion = confusion_matrix(\n",
    "    y_true=[intended for (intended, actual, duration) in example_data],\n",
    "    y_pred=[actual for (intended, actual, duration) in example_data],\n",
    ")\n",
    "\n",
    "## compute average duration of each class\n",
    "times = defaultdict(float)\n",
    "n = defaultdict(int)\n",
    "for intended, actual, duration in example_data:\n",
    "    times[intended] += duration\n",
    "    n[intended] += duration\n",
    "    \n",
    "mean_duration = [times.get(i, 0) / n.get(i, 1) for i in range(len(confusion))]\n",
    "\n",
    "\n",
    "\n",
    "\n",
    "## show mean and std. itr\n",
    "print(itr(confusion, mean_duration))"
   ]
  },
  {
   "cell_type": "code",
   "execution_count": 114,
   "metadata": {
    "ExecuteTime": {
     "end_time": "2020-03-20T13:10:36.943364Z",
     "start_time": "2020-03-20T13:10:36.939459Z"
    }
   },
   "outputs": [],
   "source": [
    "## tests\n",
    "confusion = np.eye(8) \n",
    "mean_duration = [1]*8\n",
    "\n",
    "# should get ~ exactly 3 bits / second\n",
    "mean, sd = itr(confusion, mean_duration)\n",
    "assert abs(mean-3.0)<1e-5\n"
   ]
  },
  {
   "cell_type": "code",
   "execution_count": 115,
   "metadata": {
    "ExecuteTime": {
     "end_time": "2020-03-20T13:10:37.136611Z",
     "start_time": "2020-03-20T13:10:37.132707Z"
    }
   },
   "outputs": [
    {
     "name": "stdout",
     "output_type": "stream",
     "text": [
      "6.000000028853901\n"
     ]
    }
   ],
   "source": [
    "# should get ~ exactly 6 bits/second\n",
    "mean, sd = itr(confusion, [0.5]*8)\n",
    "print(mean)\n",
    "assert abs(mean-6.0)<1e-5\n"
   ]
  },
  {
   "cell_type": "code",
   "execution_count": 116,
   "metadata": {
    "ExecuteTime": {
     "end_time": "2020-03-20T13:10:50.319585Z",
     "start_time": "2020-03-20T13:10:50.314701Z"
    }
   },
   "outputs": [],
   "source": [
    "# should get ~ exactly 1.5 bits/second\n",
    "mean, sd = itr(confusion, [2.0]*8)\n",
    "assert abs(mean-1.5)<1e-5"
   ]
  },
  {
   "cell_type": "code",
   "execution_count": 111,
   "metadata": {
    "ExecuteTime": {
     "end_time": "2020-03-20T13:10:01.674126Z",
     "start_time": "2020-03-20T13:10:01.669246Z"
    }
   },
   "outputs": [],
   "source": [
    "## should be pretty much close to 0, less than 0.5 bits/second\n",
    "\n",
    "for i in range(20):\n",
    "    confusion = np.random.randint(0,200,(8,8))\n",
    "    mean_duration = [1]*8\n",
    "    # should get exactly 3 bits\n",
    "    mean, sd = itr(confusion, mean_duration)    \n",
    "    assert mean<0.5\n"
   ]
  },
  {
   "cell_type": "code",
   "execution_count": null,
   "metadata": {},
   "outputs": [],
   "source": []
  }
 ],
 "metadata": {
  "kernelspec": {
   "display_name": "Python 3",
   "language": "python",
   "name": "python3"
  },
  "language_info": {
   "codemirror_mode": {
    "name": "ipython",
    "version": 3
   },
   "file_extension": ".py",
   "mimetype": "text/x-python",
   "name": "python",
   "nbconvert_exporter": "python",
   "pygments_lexer": "ipython3",
   "version": "3.7.3"
  }
 },
 "nbformat": 4,
 "nbformat_minor": 2
}
