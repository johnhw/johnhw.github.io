{
 "cells": [
  {
   "cell_type": "code",
   "execution_count": 33,
   "metadata": {
    "ExecuteTime": {
     "end_time": "2020-03-08T18:05:50.446545Z",
     "start_time": "2020-03-08T18:05:50.423122Z"
    }
   },
   "outputs": [],
   "source": [
    "from collections import namedtuple\n",
    "from functools import lru_cache\n",
    "from itertools import product\n",
    "from dataclasses import dataclass\n",
    "\n",
    "\n",
    "# life rule, for a 3x3 collection of cells, where E is the centre\n",
    "def life(a, b, c, d, E, f, g, h, i):\n",
    "    outer = sum([t.n for t in [a, b, c, d, f, g, h, i]])\n",
    "    return on if (E.n and outer == 2) or outer == 3 else off\n",
    "\n",
    "\n",
    "class Node:\n",
    "    @classmethod\n",
    "    def base(cls, n):\n",
    "        node = Node()\n",
    "        node.k = 0\n",
    "        node.n = n\n",
    "        node.hash = n\n",
    "        Node.cache[node.hash] = node\n",
    "        return node\n",
    "\n",
    "    @classmethod\n",
    "    def join(cls, a, b, c, d):\n",
    "        nhash = (\n",
    "            k\n",
    "            + 313183 * a.hash\n",
    "            + 3158351985019 * b.hash\n",
    "            + 897311087 * c.hash\n",
    "            + 43184901804 * d.hash\n",
    "        ) & ((1 << 64) - 1)\n",
    "        if nhash not in Node.cache:\n",
    "            node = Node()\n",
    "            node.k = node.a + 1\n",
    "            node.n = a.n + b.n + c.n + d.n\n",
    "            node.a, node.b, node.c, node.d = a, b, c, d\n",
    "            Node.cache[nhash] = Node\n",
    "        return node\n",
    "\n",
    "    @classmethod\n",
    "    def get_zero(cls, k):\n",
    "        if k == 0:\n",
    "            return Node.off\n",
    "        else:\n",
    "            return Node.join(\n",
    "                get_zero(k - 1), get_zero(k - 1), get_zero(k - 1), get_zero(k - 1)\n",
    "            )\n",
    "\n",
    "    def centre(self):\n",
    "        z = get_zero(self.k - 1)\n",
    "        return Node.join(\n",
    "            Node.join(z, z, z, m.a),\n",
    "            Node.join(z, z, m.b, z),\n",
    "            Node.join(z, m.c, z, z),\n",
    "            Node.join(m.d, z, z, z),\n",
    "        )\n",
    "\n",
    "    def subnode(self):\n",
    "        return Node.join(self.a.d, self.b.c, self.c.b, self.d.a)\n",
    "\n",
    "    def life_4x4(self):\n",
    "        assert self.k == 2\n",
    "        m = self\n",
    "        na = life(m.a.a, m.a.b, m.b.a, m.a.c, m.a.d, m.b.c, m.c.a, m.c.b, m.d.a)  # AD\n",
    "        nb = life(m.a.b, m.b.a, m.b.b, m.a.d, m.b.c, m.b.d, m.c.b, m.d.a, m.d.b)  # BC\n",
    "        nc = life(m.a.c, m.a.d, m.b.c, m.c.a, m.c.b, m.d.a, m.c.c, m.c.d, m.d.c)  # CB\n",
    "        nd = life(m.a.d, m.b.c, m.b.d, m.c.b, m.d.a, m.d.b, m.c.d, m.d.c, m.d.d)  # DA\n",
    "        return Node.join(na, nb, nc, nd)\n",
    "\n",
    "    def successor(self):\n",
    "        m = self\n",
    "        if m in Node.successors:\n",
    "            return Node.successors[m]\n",
    "        if m.n == 0:  # empty\n",
    "            return m.a\n",
    "        elif m.k == 2:  # base case\n",
    "            s = life_4x4(m)\n",
    "        else:\n",
    "            c1 = Node.join(m.a.a, m.a.b, m.a.c, m.a.d).successor()\n",
    "            c2 = Node.join(m.a.b, m.b.a, m.a.d, m.b.c).successor()\n",
    "            c3 = Node.join(m.b.a, m.b.b, m.b.c, m.b.d).successor()\n",
    "            c4 = Node.join(m.a.c, m.a.d, m.c.a, m.c.b).successor()\n",
    "            c5 = Node.join(m.a.d, m.b.c, m.c.b, m.d.a).successor()\n",
    "            c6 = Node.join(m.b.c, m.b.d, m.d.a, m.d.b).successor()\n",
    "            c7 = Node.join(m.c.a, m.c.b, m.c.c, m.c.d).successor()\n",
    "            c8 = Node.join(m.c.b, m.d.a, m.c.d, m.d.c).successor()\n",
    "            c9 = Node.join(m.d.a, m.d.b, m.d.c, m.d.d).successor()\n",
    "\n",
    "            s = Node.join(\n",
    "                (Node.join(c1, c2, c4, c5).successor()),\n",
    "                (Node.join(c2, c3, c5, c6).successor()),\n",
    "                (Node.join(c4, c5, c7, c8).successor()),\n",
    "                (Node.join(c5, c6, c8, c9).successor()),\n",
    "            )\n",
    "        Node.successors[m] = s\n",
    "        return s\n",
    "\n",
    "    def __hash__(self):\n",
    "        return self.hash\n",
    "\n",
    "\n",
    "Node.cache = {}\n",
    "Node.successors = {}\n",
    "# base level binary nodes\n",
    "Node.on = Node.base(1)\n",
    "Node.off = Node.base(0)"
   ]
  },
  {
   "cell_type": "code",
   "execution_count": 9,
   "metadata": {
    "ExecuteTime": {
     "end_time": "2020-03-08T17:45:01.870697Z",
     "start_time": "2020-03-08T17:45:01.859961Z"
    }
   },
   "outputs": [],
   "source": [
    "def advance(m, g):\n",
    "    \"\"\"Return the 2**k-1 x 2**k-1 sub node, g generations in the future\"\"\"    \n",
    "    k_bit = (g >> (m.k - 2)) & 1    \n",
    "    #print(m.k, g, g & ((1 << (m.k - 2)) - 1))\n",
    "    # no more bits to consider\n",
    "    if g & ((1 << (m.k - 1)) - 1) == 0:\n",
    "        return subnode(m)\n",
    "    if m.n==0: # empty\n",
    "        return m.a    \n",
    "    elif m.k == 2:  # base case       \n",
    "        s = successor(m) if k_bit else subnode(m)        \n",
    "    else:\n",
    "        c1 = advance(join(m.a.a, m.a.b, m.a.c, m.a.d), g)\n",
    "        c2 = advance(join(m.a.b, m.b.a, m.a.d, m.b.c), g)\n",
    "        c3 = advance(join(m.b.a, m.b.b, m.b.c, m.b.d), g)\n",
    "        c4 = advance(join(m.a.c, m.a.d, m.c.a, m.c.b), g)        \n",
    "        c5 = advance(join(m.a.d, m.b.c, m.c.b, m.d.a), g)\n",
    "        c6 = advance(join(m.b.c, m.b.d, m.d.a, m.d.b), g)\n",
    "        c7 = advance(join(m.c.a, m.c.b, m.c.c, m.c.d), g)\n",
    "        c8 = advance(join(m.c.b, m.d.a, m.c.d, m.d.c), g)\n",
    "        c9 = advance(join(m.d.a, m.d.b, m.d.c, m.d.d), g)\n",
    "        \n",
    "        if k_bit:\n",
    "            s = join(\n",
    "                successor(join(c1, c2, c4, c5)),\n",
    "                successor(join(c2, c3, c5, c6)),\n",
    "                successor(join(c4, c5, c7, c8)),\n",
    "                successor(join(c5, c6, c8, c9)),\n",
    "            )  \n",
    "        else:            \n",
    "            s = join(\n",
    "                (join(c1.d, c2.c, c4.b, c5.a)),\n",
    "                (join(c2.d, c3.c, c5.b, c6.a)),\n",
    "                (join(c4.d, c5.c, c7.b, c8.a)),\n",
    "                (join(c5.d, c6.c, c8.b, c9.a)),\n",
    "            )    \n",
    "\n",
    "    return s"
   ]
  },
  {
   "cell_type": "code",
   "execution_count": 10,
   "metadata": {
    "ExecuteTime": {
     "end_time": "2020-03-08T17:45:03.006760Z",
     "start_time": "2020-03-08T17:45:02.996025Z"
    }
   },
   "outputs": [
    {
     "ename": "TypeError",
     "evalue": "unhashable type: 'Node'",
     "output_type": "error",
     "traceback": [
      "\u001b[1;31m--------------------------------------------------------------\u001b[0m",
      "\u001b[1;31mTypeError\u001b[0m                    Traceback (most recent call last)",
      "\u001b[1;32m<ipython-input-10-81039bf748d7>\u001b[0m in \u001b[0;36m<module>\u001b[1;34m\u001b[0m\n\u001b[0;32m      3\u001b[0m     \u001b[1;32mreturn\u001b[0m \u001b[1;33m[\u001b[0m\u001b[0mjoin\u001b[0m\u001b[1;33m(\u001b[0m\u001b[0ma\u001b[0m\u001b[1;33m,\u001b[0m \u001b[0mb\u001b[0m\u001b[1;33m,\u001b[0m \u001b[0mc\u001b[0m\u001b[1;33m,\u001b[0m \u001b[0md\u001b[0m\u001b[1;33m)\u001b[0m \u001b[1;32mfor\u001b[0m \u001b[0ma\u001b[0m\u001b[1;33m,\u001b[0m \u001b[0mb\u001b[0m\u001b[1;33m,\u001b[0m \u001b[0mc\u001b[0m\u001b[1;33m,\u001b[0m \u001b[0md\u001b[0m \u001b[1;32min\u001b[0m \u001b[0mproduct\u001b[0m\u001b[1;33m(\u001b[0m\u001b[0mpieces\u001b[0m\u001b[1;33m,\u001b[0m \u001b[0mrepeat\u001b[0m\u001b[1;33m=\u001b[0m\u001b[1;36m4\u001b[0m\u001b[1;33m)\u001b[0m\u001b[1;33m]\u001b[0m\u001b[1;33m\u001b[0m\u001b[1;33m\u001b[0m\u001b[0m\n\u001b[0;32m      4\u001b[0m \u001b[1;33m\u001b[0m\u001b[0m\n\u001b[1;32m----> 5\u001b[1;33m \u001b[0mboot_2x2\u001b[0m \u001b[1;33m=\u001b[0m \u001b[0mproduct_tree\u001b[0m\u001b[1;33m(\u001b[0m\u001b[1;33m[\u001b[0m\u001b[0mon\u001b[0m\u001b[1;33m,\u001b[0m \u001b[0moff\u001b[0m\u001b[1;33m]\u001b[0m\u001b[1;33m)\u001b[0m\u001b[1;33m\u001b[0m\u001b[1;33m\u001b[0m\u001b[0m\n\u001b[0m\u001b[0;32m      6\u001b[0m \u001b[0mboot_4x4\u001b[0m \u001b[1;33m=\u001b[0m \u001b[0mproduct_tree\u001b[0m\u001b[1;33m(\u001b[0m\u001b[0mboot_2x2\u001b[0m\u001b[1;33m)\u001b[0m\u001b[1;33m\u001b[0m\u001b[1;33m\u001b[0m\u001b[0m\n\u001b[0;32m      7\u001b[0m \u001b[0mcentres\u001b[0m \u001b[1;33m=\u001b[0m \u001b[1;33m[\u001b[0m\u001b[0msuccessor\u001b[0m\u001b[1;33m(\u001b[0m\u001b[0mp\u001b[0m\u001b[1;33m)\u001b[0m \u001b[1;32mfor\u001b[0m \u001b[0mp\u001b[0m \u001b[1;32min\u001b[0m \u001b[0mboot_4x4\u001b[0m\u001b[1;33m]\u001b[0m\u001b[1;33m\u001b[0m\u001b[1;33m\u001b[0m\u001b[0m\n",
      "\u001b[1;32m<ipython-input-10-81039bf748d7>\u001b[0m in \u001b[0;36mproduct_tree\u001b[1;34m(pieces)\u001b[0m\n\u001b[0;32m      1\u001b[0m \u001b[1;31m# pre-generate all 4x4 successors\u001b[0m\u001b[1;33m\u001b[0m\u001b[1;33m\u001b[0m\u001b[1;33m\u001b[0m\u001b[0m\n\u001b[0;32m      2\u001b[0m \u001b[1;32mdef\u001b[0m \u001b[0mproduct_tree\u001b[0m\u001b[1;33m(\u001b[0m\u001b[0mpieces\u001b[0m\u001b[1;33m)\u001b[0m\u001b[1;33m:\u001b[0m\u001b[1;33m\u001b[0m\u001b[1;33m\u001b[0m\u001b[0m\n\u001b[1;32m----> 3\u001b[1;33m     \u001b[1;32mreturn\u001b[0m \u001b[1;33m[\u001b[0m\u001b[0mjoin\u001b[0m\u001b[1;33m(\u001b[0m\u001b[0ma\u001b[0m\u001b[1;33m,\u001b[0m \u001b[0mb\u001b[0m\u001b[1;33m,\u001b[0m \u001b[0mc\u001b[0m\u001b[1;33m,\u001b[0m \u001b[0md\u001b[0m\u001b[1;33m)\u001b[0m \u001b[1;32mfor\u001b[0m \u001b[0ma\u001b[0m\u001b[1;33m,\u001b[0m \u001b[0mb\u001b[0m\u001b[1;33m,\u001b[0m \u001b[0mc\u001b[0m\u001b[1;33m,\u001b[0m \u001b[0md\u001b[0m \u001b[1;32min\u001b[0m \u001b[0mproduct\u001b[0m\u001b[1;33m(\u001b[0m\u001b[0mpieces\u001b[0m\u001b[1;33m,\u001b[0m \u001b[0mrepeat\u001b[0m\u001b[1;33m=\u001b[0m\u001b[1;36m4\u001b[0m\u001b[1;33m)\u001b[0m\u001b[1;33m]\u001b[0m\u001b[1;33m\u001b[0m\u001b[1;33m\u001b[0m\u001b[0m\n\u001b[0m\u001b[0;32m      4\u001b[0m \u001b[1;33m\u001b[0m\u001b[0m\n\u001b[0;32m      5\u001b[0m \u001b[0mboot_2x2\u001b[0m \u001b[1;33m=\u001b[0m \u001b[0mproduct_tree\u001b[0m\u001b[1;33m(\u001b[0m\u001b[1;33m[\u001b[0m\u001b[0mon\u001b[0m\u001b[1;33m,\u001b[0m \u001b[0moff\u001b[0m\u001b[1;33m]\u001b[0m\u001b[1;33m)\u001b[0m\u001b[1;33m\u001b[0m\u001b[1;33m\u001b[0m\u001b[0m\n",
      "\u001b[1;32m<ipython-input-10-81039bf748d7>\u001b[0m in \u001b[0;36m<listcomp>\u001b[1;34m(.0)\u001b[0m\n\u001b[0;32m      1\u001b[0m \u001b[1;31m# pre-generate all 4x4 successors\u001b[0m\u001b[1;33m\u001b[0m\u001b[1;33m\u001b[0m\u001b[1;33m\u001b[0m\u001b[0m\n\u001b[0;32m      2\u001b[0m \u001b[1;32mdef\u001b[0m \u001b[0mproduct_tree\u001b[0m\u001b[1;33m(\u001b[0m\u001b[0mpieces\u001b[0m\u001b[1;33m)\u001b[0m\u001b[1;33m:\u001b[0m\u001b[1;33m\u001b[0m\u001b[1;33m\u001b[0m\u001b[0m\n\u001b[1;32m----> 3\u001b[1;33m     \u001b[1;32mreturn\u001b[0m \u001b[1;33m[\u001b[0m\u001b[0mjoin\u001b[0m\u001b[1;33m(\u001b[0m\u001b[0ma\u001b[0m\u001b[1;33m,\u001b[0m \u001b[0mb\u001b[0m\u001b[1;33m,\u001b[0m \u001b[0mc\u001b[0m\u001b[1;33m,\u001b[0m \u001b[0md\u001b[0m\u001b[1;33m)\u001b[0m \u001b[1;32mfor\u001b[0m \u001b[0ma\u001b[0m\u001b[1;33m,\u001b[0m \u001b[0mb\u001b[0m\u001b[1;33m,\u001b[0m \u001b[0mc\u001b[0m\u001b[1;33m,\u001b[0m \u001b[0md\u001b[0m \u001b[1;32min\u001b[0m \u001b[0mproduct\u001b[0m\u001b[1;33m(\u001b[0m\u001b[0mpieces\u001b[0m\u001b[1;33m,\u001b[0m \u001b[0mrepeat\u001b[0m\u001b[1;33m=\u001b[0m\u001b[1;36m4\u001b[0m\u001b[1;33m)\u001b[0m\u001b[1;33m]\u001b[0m\u001b[1;33m\u001b[0m\u001b[1;33m\u001b[0m\u001b[0m\n\u001b[0m\u001b[0;32m      4\u001b[0m \u001b[1;33m\u001b[0m\u001b[0m\n\u001b[0;32m      5\u001b[0m \u001b[0mboot_2x2\u001b[0m \u001b[1;33m=\u001b[0m \u001b[0mproduct_tree\u001b[0m\u001b[1;33m(\u001b[0m\u001b[1;33m[\u001b[0m\u001b[0mon\u001b[0m\u001b[1;33m,\u001b[0m \u001b[0moff\u001b[0m\u001b[1;33m]\u001b[0m\u001b[1;33m)\u001b[0m\u001b[1;33m\u001b[0m\u001b[1;33m\u001b[0m\u001b[0m\n",
      "\u001b[1;31mTypeError\u001b[0m: unhashable type: 'Node'"
     ]
    }
   ],
   "source": [
    "# pre-generate all 4x4 successors\n",
    "def product_tree(pieces):\n",
    "    return [join(a, b, c, d) for a, b, c, d in product(pieces, repeat=4)]\n",
    "\n",
    "boot_2x2 = product_tree([on, off])\n",
    "boot_4x4 = product_tree(boot_2x2)\n",
    "centres = [successor(p) for p in boot_4x4]"
   ]
  },
  {
   "cell_type": "code",
   "execution_count": 11,
   "metadata": {
    "ExecuteTime": {
     "end_time": "2020-03-08T17:45:03.347384Z",
     "start_time": "2020-03-08T17:45:03.341527Z"
    }
   },
   "outputs": [],
   "source": [
    "def construct(pt_list):\n",
    "    # Force start at (0,0)\n",
    "    min_x = min(*[x for x, y in pt_list])\n",
    "    min_y = min(*[y for x, y in pt_list])\n",
    "    pattern = {(x - min_x, y - min_y): on for x, y in pt_list}\n",
    "\n",
    "    k = 0\n",
    "    while len(pattern) != 1:\n",
    "        # bottom-up construction\n",
    "        next_level = {}\n",
    "        z = get_zero(k)\n",
    "        while len(pattern) > 0:\n",
    "            x, y = next(iter(pattern))\n",
    "            x_q, y_q = x - (x & 1), y - (y & 1)\n",
    "            # read all 2x2 neighbours, removing from those to work through\n",
    "            # at least one of these must exist by definition\n",
    "            a = pattern.pop((x_q, y_q), z)\n",
    "            b = pattern.pop((x_q + 1, y_q), z)\n",
    "            c = pattern.pop((x_q, y_q + 1), z)\n",
    "            d = pattern.pop((x_q + 1, y_q + 1), z)\n",
    "            next_level[x_q >> 1, y_q >> 1] = join(a, b, c, d)\n",
    "        # merge at the next level\n",
    "        pattern = next_level\n",
    "        k += 1\n",
    "    return pattern.popitem()[1]"
   ]
  },
  {
   "cell_type": "code",
   "execution_count": 12,
   "metadata": {
    "ExecuteTime": {
     "end_time": "2020-03-08T17:45:04.362422Z",
     "start_time": "2020-03-08T17:45:04.356566Z"
    }
   },
   "outputs": [],
   "source": [
    "def expand(node, x=0, y=0, clip=None, level=0):\n",
    "    size = 2 ** node.k\n",
    "    # bounds check\n",
    "    if clip is not None:\n",
    "        if x + size < clip[0] or x > clip[1] or y + size < clip[2] or y > clip[3]:\n",
    "            return []\n",
    "    if node.k == level:\n",
    "        # base case: return the gray level of this node\n",
    "        return [(x, y, node.n / (size ** 2))] if node.n > 0 else []\n",
    "    else:\n",
    "        # return all points contained inside this cell\n",
    "        offset = size >> 1\n",
    "        return (\n",
    "            expand(node.a, x=x, y=y, clip=clip, level=level)\n",
    "            + expand(node.b, x=x + offset, y=y, clip=clip, level=level)\n",
    "            + expand(node.c, x=x, y=y + offset, clip=clip, level=level)\n",
    "            + expand(node.d, x=x + offset, y=y + offset, clip=clip, level=level)\n",
    "        )"
   ]
  },
  {
   "cell_type": "code",
   "execution_count": 13,
   "metadata": {
    "ExecuteTime": {
     "end_time": "2020-03-08T17:45:04.685478Z",
     "start_time": "2020-03-08T17:45:04.679622Z"
    }
   },
   "outputs": [],
   "source": [
    "def print_points(points):    \n",
    "    px, py = 0, 0\n",
    "    for x, y, gray in sorted(points, key=lambda x:(x[1], x[0])):\n",
    "        while y>py:\n",
    "            print()\n",
    "            py += 1\n",
    "            px = 0\n",
    "        while x>px:\n",
    "            print(\" \", end=\"\")\n",
    "            px += 1\n",
    "        print(\"*\", end=\"\")                            \n",
    "    "
   ]
  },
  {
   "cell_type": "code",
   "execution_count": 14,
   "metadata": {
    "ExecuteTime": {
     "end_time": "2020-03-08T17:45:05.735653Z",
     "start_time": "2020-03-08T17:45:05.726869Z"
    }
   },
   "outputs": [
    {
     "ename": "TypeError",
     "evalue": "unhashable type: 'Node'",
     "output_type": "error",
     "traceback": [
      "\u001b[1;31m--------------------------------------------------------------\u001b[0m",
      "\u001b[1;31mTypeError\u001b[0m                    Traceback (most recent call last)",
      "\u001b[1;32m<ipython-input-14-c3bb9752eeaa>\u001b[0m in \u001b[0;36m<module>\u001b[1;34m\u001b[0m\n\u001b[1;32m----> 1\u001b[1;33m \u001b[0mqtree\u001b[0m \u001b[1;33m=\u001b[0m \u001b[0mconstruct\u001b[0m\u001b[1;33m(\u001b[0m\u001b[1;33m[\u001b[0m\u001b[1;33m(\u001b[0m\u001b[1;36m0\u001b[0m\u001b[1;33m,\u001b[0m\u001b[1;36m0\u001b[0m\u001b[1;33m)\u001b[0m\u001b[1;33m,\u001b[0m \u001b[1;33m(\u001b[0m\u001b[1;36m1\u001b[0m\u001b[1;33m,\u001b[0m\u001b[1;36m0\u001b[0m\u001b[1;33m)\u001b[0m\u001b[1;33m,\u001b[0m \u001b[1;33m(\u001b[0m\u001b[1;36m2\u001b[0m\u001b[1;33m,\u001b[0m\u001b[1;36m0\u001b[0m\u001b[1;33m)\u001b[0m\u001b[1;33m,\u001b[0m \u001b[1;33m(\u001b[0m\u001b[1;36m0\u001b[0m\u001b[1;33m,\u001b[0m \u001b[1;36m1\u001b[0m\u001b[1;33m)\u001b[0m\u001b[1;33m,\u001b[0m \u001b[1;33m(\u001b[0m\u001b[1;36m2\u001b[0m\u001b[1;33m,\u001b[0m\u001b[1;36m2\u001b[0m\u001b[1;33m)\u001b[0m\u001b[1;33m]\u001b[0m\u001b[1;33m)\u001b[0m\u001b[1;33m\u001b[0m\u001b[1;33m\u001b[0m\u001b[0m\n\u001b[0m\u001b[0;32m      2\u001b[0m \u001b[0mprint_points\u001b[0m\u001b[1;33m(\u001b[0m\u001b[0mexpand\u001b[0m\u001b[1;33m(\u001b[0m\u001b[1;33m(\u001b[0m\u001b[0mqtree\u001b[0m\u001b[1;33m)\u001b[0m\u001b[1;33m)\u001b[0m\u001b[1;33m)\u001b[0m\u001b[1;33m\u001b[0m\u001b[1;33m\u001b[0m\u001b[0m\n",
      "\u001b[1;32m<ipython-input-11-fb2ce3716b58>\u001b[0m in \u001b[0;36mconstruct\u001b[1;34m(pt_list)\u001b[0m\n\u001b[0;32m     19\u001b[0m             \u001b[0mc\u001b[0m \u001b[1;33m=\u001b[0m \u001b[0mpattern\u001b[0m\u001b[1;33m.\u001b[0m\u001b[0mpop\u001b[0m\u001b[1;33m(\u001b[0m\u001b[1;33m(\u001b[0m\u001b[0mx_q\u001b[0m\u001b[1;33m,\u001b[0m \u001b[0my_q\u001b[0m \u001b[1;33m+\u001b[0m \u001b[1;36m1\u001b[0m\u001b[1;33m)\u001b[0m\u001b[1;33m,\u001b[0m \u001b[0mz\u001b[0m\u001b[1;33m)\u001b[0m\u001b[1;33m\u001b[0m\u001b[1;33m\u001b[0m\u001b[0m\n\u001b[0;32m     20\u001b[0m             \u001b[0md\u001b[0m \u001b[1;33m=\u001b[0m \u001b[0mpattern\u001b[0m\u001b[1;33m.\u001b[0m\u001b[0mpop\u001b[0m\u001b[1;33m(\u001b[0m\u001b[1;33m(\u001b[0m\u001b[0mx_q\u001b[0m \u001b[1;33m+\u001b[0m \u001b[1;36m1\u001b[0m\u001b[1;33m,\u001b[0m \u001b[0my_q\u001b[0m \u001b[1;33m+\u001b[0m \u001b[1;36m1\u001b[0m\u001b[1;33m)\u001b[0m\u001b[1;33m,\u001b[0m \u001b[0mz\u001b[0m\u001b[1;33m)\u001b[0m\u001b[1;33m\u001b[0m\u001b[1;33m\u001b[0m\u001b[0m\n\u001b[1;32m---> 21\u001b[1;33m             \u001b[0mnext_level\u001b[0m\u001b[1;33m[\u001b[0m\u001b[0mx_q\u001b[0m \u001b[1;33m>>\u001b[0m \u001b[1;36m1\u001b[0m\u001b[1;33m,\u001b[0m \u001b[0my_q\u001b[0m \u001b[1;33m>>\u001b[0m \u001b[1;36m1\u001b[0m\u001b[1;33m]\u001b[0m \u001b[1;33m=\u001b[0m \u001b[0mjoin\u001b[0m\u001b[1;33m(\u001b[0m\u001b[0ma\u001b[0m\u001b[1;33m,\u001b[0m \u001b[0mb\u001b[0m\u001b[1;33m,\u001b[0m \u001b[0mc\u001b[0m\u001b[1;33m,\u001b[0m \u001b[0md\u001b[0m\u001b[1;33m)\u001b[0m\u001b[1;33m\u001b[0m\u001b[1;33m\u001b[0m\u001b[0m\n\u001b[0m\u001b[0;32m     22\u001b[0m         \u001b[1;31m# merge at the next level\u001b[0m\u001b[1;33m\u001b[0m\u001b[1;33m\u001b[0m\u001b[1;33m\u001b[0m\u001b[0m\n\u001b[0;32m     23\u001b[0m         \u001b[0mpattern\u001b[0m \u001b[1;33m=\u001b[0m \u001b[0mnext_level\u001b[0m\u001b[1;33m\u001b[0m\u001b[1;33m\u001b[0m\u001b[0m\n",
      "\u001b[1;31mTypeError\u001b[0m: unhashable type: 'Node'"
     ]
    }
   ],
   "source": [
    "qtree = construct([(0,0), (1,0), (2,0), (0, 1), (2,2)])\n",
    "print_points(expand((qtree)))"
   ]
  },
  {
   "cell_type": "code",
   "execution_count": 14,
   "metadata": {
    "ExecuteTime": {
     "end_time": "2020-03-08T17:40:01.999944Z",
     "start_time": "2020-03-08T17:40:01.993111Z"
    }
   },
   "outputs": [],
   "source": [
    "def ffwd(node, n):\n",
    "    \n",
    "    for i in range(n):\n",
    "       \n",
    "        while (node.k < 3 or node.a.n != node.a.d.d.n or\n",
    "                node.b.n != node.b.c.c.n or\n",
    "                node.c.n != node.c.b.b.n or\n",
    "                node.d.n != node.d.a.a.n):\n",
    "                node = centre(node)    \n",
    "        node =  successor(node)\n",
    "    return node\n",
    "\n",
    "def warp(node, n):\n",
    "    # ensure a large enough space\n",
    "    while (2 << node.k) < n:\n",
    "        node = centre(node)     \n",
    "    node = centre(centre(node))\n",
    "    print(node.k)\n",
    "    return  advance(node, n<<1)    "
   ]
  },
  {
   "cell_type": "code",
   "execution_count": 15,
   "metadata": {
    "ExecuteTime": {
     "end_time": "2020-03-08T17:40:02.998390Z",
     "start_time": "2020-03-08T17:40:02.993510Z"
    }
   },
   "outputs": [
    {
     "name": "stdout",
     "output_type": "stream",
     "text": [
      "The line_profiler extension is already loaded. To reload it, use:\n",
      "  %reload_ext line_profiler\n"
     ]
    }
   ],
   "source": [
    "%load_ext line_profiler"
   ]
  },
  {
   "cell_type": "code",
   "execution_count": 25,
   "metadata": {
    "ExecuteTime": {
     "end_time": "2020-03-08T17:42:12.033240Z",
     "start_time": "2020-03-08T17:42:11.379322Z"
    }
   },
   "outputs": [
    {
     "name": "stdout",
     "output_type": "stream",
     "text": [
      " "
     ]
    }
   ],
   "source": [
    "           \n",
    "##expand(warp(qtree, 2048))\n",
    "%prun ffwd(qtree, 9)"
   ]
  },
  {
   "cell_type": "code",
   "execution_count": 626,
   "metadata": {
    "ExecuteTime": {
     "end_time": "2020-03-08T17:31:02.719799Z",
     "start_time": "2020-03-08T17:31:02.715894Z"
    }
   },
   "outputs": [
    {
     "data": {
      "text/plain": [
       "CacheInfo(hits=331840, misses=65871, maxsize=1048576, currsize=65871)"
      ]
     },
     "execution_count": 626,
     "metadata": {},
     "output_type": "execute_result"
    }
   ],
   "source": [
    "join.cache_info()"
   ]
  },
  {
   "cell_type": "code",
   "execution_count": 333,
   "metadata": {
    "ExecuteTime": {
     "end_time": "2020-03-08T17:07:00.894925Z",
     "start_time": "2020-03-08T17:07:00.890045Z"
    }
   },
   "outputs": [],
   "source": [
    "def validate_tree(qtree):\n",
    "    if qtree.k > 0:\n",
    "        assert qtree.a.k == qtree.b.k == qtree.c.k == qtree.b.k == qtree.k - 1\n",
    "        assert type(qtree).__name__ == \"Node\"\n",
    "        assert type(qtree.a).__name__ == \"Node\"\n",
    "        assert type(qtree.b).__name__ == \"Node\"\n",
    "        assert type(qtree.c).__name__ == \"Node\"\n",
    "        assert type(qtree.d).__name__ == \"Node\"\n",
    "        validate_tree(qtree.a)\n",
    "        validate_tree(qtree.b)\n",
    "        validate_tree(qtree.c)\n",
    "        validate_tree(qtree.d)"
   ]
  },
  {
   "cell_type": "code",
   "execution_count": 334,
   "metadata": {
    "ExecuteTime": {
     "end_time": "2020-03-08T17:07:01.090125Z",
     "start_time": "2020-03-08T17:07:01.085245Z"
    }
   },
   "outputs": [
    {
     "name": "stdout",
     "output_type": "stream",
     "text": [
      "*\n",
      " *\n",
      "  *\n",
      "   *"
     ]
    }
   ],
   "source": [
    "print_points(expand(construct([(1,1), (2,2), (3,3), (4,4)])))"
   ]
  },
  {
   "cell_type": "code",
   "execution_count": 335,
   "metadata": {
    "ExecuteTime": {
     "end_time": "2020-03-08T17:07:01.469788Z",
     "start_time": "2020-03-08T17:07:01.464908Z"
    }
   },
   "outputs": [],
   "source": [
    "def advance_by_bits(node, bits):\n",
    "    assert len(bits)==node.k\n",
    "    if bits[0]==0:\n",
    "        pass\n",
    "    else:\n",
    "        pass\n",
    "    if node.k==k:\n",
    "        return successor(k)\n",
    "\n",
    "def advance(node, n):        \n",
    "    bits = []\n",
    "    while n > 0:\n",
    "        bits.append(n & 1)\n",
    "        n = n >> 1\n",
    "        node = centre(node)\n",
    "    bits = ([0] * (node.k - len(bits))) + bits\n",
    "    advance_by_bits(node, bits)            \n",
    "    return node"
   ]
  },
  {
   "cell_type": "code",
   "execution_count": 482,
   "metadata": {
    "ExecuteTime": {
     "end_time": "2020-03-08T17:19:08.988220Z",
     "start_time": "2020-03-08T17:19:08.978460Z"
    }
   },
   "outputs": [],
   "source": [
    "@lru_cache(maxsize=2**20)\n",
    "def next_gen(m):\n",
    "    \"\"\"Return the 2**k-1 x 2**k-1 successor, 2**k-1 generations in the future\"\"\"    \n",
    "    if m.n==0: # empty\n",
    "        return m.a    \n",
    "    elif m.k == 2:  # base case               \n",
    "        s = life_4x4(m)    \n",
    "    else:\n",
    "        c1 = successor(join(m.a.a, m.a.b, m.a.c, m.a.d))\n",
    "        c2 = successor(join(m.a.b, m.b.a, m.a.d, m.b.c))\n",
    "        c3 = successor(join(m.b.a, m.b.b, m.b.c, m.b.d))\n",
    "        c4 = successor(join(m.a.c, m.a.d, m.c.a, m.c.b))        \n",
    "        c5 = successor(join(m.a.d, m.b.c, m.c.b, m.d.a))\n",
    "        c6 = successor(join(m.b.c, m.b.d, m.d.a, m.d.b))\n",
    "        c7 = successor(join(m.c.a, m.c.b, m.c.c, m.c.d))\n",
    "        c8 = successor(join(m.c.b, m.d.a, m.c.d, m.d.c))\n",
    "        c9 = successor(join(m.d.a, m.d.b, m.d.c, m.d.d))\n",
    "        \n",
    "        s = join(\n",
    "            (join(c1.d, c2.c, c4.b, c5.a)),\n",
    "            (join(c2.d, c3.c, c5.b, c6.a)),\n",
    "            (join(c4.d, c5.c, c7.b, c8.a)),\n",
    "            (join(c5.d, c6.c, c8.b, c9.a)),\n",
    "        )    \n",
    "        \n",
    "        \n",
    "    return s"
   ]
  },
  {
   "cell_type": "code",
   "execution_count": null,
   "metadata": {},
   "outputs": [],
   "source": []
  }
 ],
 "metadata": {
  "kernelspec": {
   "display_name": "Python 3",
   "language": "python",
   "name": "python3"
  },
  "language_info": {
   "codemirror_mode": {
    "name": "ipython",
    "version": 3
   },
   "file_extension": ".py",
   "mimetype": "text/x-python",
   "name": "python",
   "nbconvert_exporter": "python",
   "pygments_lexer": "ipython3",
   "version": "3.7.3"
  },
  "varInspector": {
   "cols": {
    "lenName": 16,
    "lenType": 16,
    "lenVar": 40
   },
   "kernels_config": {
    "python": {
     "delete_cmd_postfix": "",
     "delete_cmd_prefix": "del ",
     "library": "var_list.py",
     "varRefreshCmd": "print(var_dic_list())"
    },
    "r": {
     "delete_cmd_postfix": ") ",
     "delete_cmd_prefix": "rm(",
     "library": "var_list.r",
     "varRefreshCmd": "cat(var_dic_list()) "
    }
   },
   "types_to_exclude": [
    "module",
    "function",
    "builtin_function_or_method",
    "instance",
    "_Feature"
   ],
   "window_display": false
  }
 },
 "nbformat": 4,
 "nbformat_minor": 2
}
