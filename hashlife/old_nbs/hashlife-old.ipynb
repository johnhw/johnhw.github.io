{
 "cells": [
  {
   "cell_type": "code",
   "execution_count": 423,
   "metadata": {
    "ExecuteTime": {
     "end_time": "2020-03-08T21:14:18.718061Z",
     "start_time": "2020-03-08T21:14:18.712205Z"
    }
   },
   "outputs": [],
   "source": [
    "from collections import namedtuple\n",
    "from functools import lru_cache\n",
    "\n",
    "_Node = namedtuple(\"Node\", [\"k\", \"a\", \"b\", \"c\", \"d\", \"n\", \"hash\"])\n",
    "\n",
    "class Node(_Node):    \n",
    "     def __hash__(self):\n",
    "        return self.hash\n",
    "    \n",
    "     def __repr__(self):\n",
    "        return f\"Node {1<<self.k} x {1<<self.k}, population {self.n}\"\n",
    "               \n",
    "# base level binary nodes\n",
    "on = Node(0, None, None, None, None, 1, 1)\n",
    "off = Node(0, None, None, None, None, 0, 0)"
   ]
  },
  {
   "cell_type": "code",
   "execution_count": 424,
   "metadata": {
    "ExecuteTime": {
     "end_time": "2020-03-08T21:14:19.168000Z",
     "start_time": "2020-03-08T21:14:19.128957Z"
    }
   },
   "outputs": [],
   "source": [
    "@lru_cache(maxsize=2**24)\n",
    "def join(a, b, c, d):        \n",
    "    n = a.n + b.n + c.n + d.n\n",
    "    nhash = (\n",
    "            a.k + 2 +\n",
    "            + 5131830419411 * a.hash\n",
    "            + 3758991985019 * b.hash\n",
    "            + 8973110871315 * c.hash\n",
    "            + 4318490180473 * d.hash\n",
    "        ) & ((1 << 63) - 1)    \n",
    "    return Node(a.k + 1, a, b, c, d, n, nhash)    "
   ]
  },
  {
   "cell_type": "code",
   "execution_count": 272,
   "metadata": {
    "ExecuteTime": {
     "end_time": "2020-03-08T20:24:12.491427Z",
     "start_time": "2020-03-08T20:24:12.485571Z"
    }
   },
   "outputs": [],
   "source": [
    "@lru_cache(maxsize=1024)\n",
    "def get_zero(k):\n",
    "    return off if k==0 else join(get_zero(k - 1), get_zero(k - 1), get_zero(k - 1), get_zero(k - 1))\n",
    "\n",
    "def centre(m):\n",
    "    z = get_zero(m.k - 1)  # get the right-sized zero node\n",
    "    return join(\n",
    "        join(z, z, z, m.a), join(z, z, m.b, z), join(z, m.c, z, z), join(m.d, z, z, z)\n",
    "    )\n"
   ]
  },
  {
   "cell_type": "code",
   "execution_count": 273,
   "metadata": {
    "ExecuteTime": {
     "end_time": "2020-03-08T20:24:15.891808Z",
     "start_time": "2020-03-08T20:24:15.882048Z"
    }
   },
   "outputs": [],
   "source": [
    "# life rule, for a 3x3 collection of cells, where E is the centre\n",
    "def life(a, b, c, d, E, f, g, h, i):\n",
    "    outer = sum([t.n for t in [a, b, c, d, f, g, h, i]])\n",
    "    return on if (E.n and outer == 2) or outer == 3 else off\n",
    "\n",
    "def life_4x4(m):\n",
    "    na = life(m.a.a, m.a.b, m.b.a, m.a.c, m.a.d, m.b.c, m.c.a, m.c.b, m.d.a)  # AD\n",
    "    nb = life(m.a.b, m.b.a, m.b.b, m.a.d, m.b.c, m.b.d, m.c.b, m.d.a, m.d.b)  # BC    \n",
    "    nc = life(m.a.c, m.a.d, m.b.c, m.c.a, m.c.b, m.d.a, m.c.c, m.c.d, m.d.c)  # CB\n",
    "    nd = life(m.a.d, m.b.c, m.b.d, m.c.b, m.d.a, m.d.b, m.c.d, m.d.c, m.d.d)  # DA\n",
    "    return join(na, nb, nc, nd)"
   ]
  },
  {
   "cell_type": "code",
   "execution_count": 350,
   "metadata": {
    "ExecuteTime": {
     "end_time": "2020-03-08T20:59:39.329573Z",
     "start_time": "2020-03-08T20:59:39.312981Z"
    }
   },
   "outputs": [],
   "source": [
    "@lru_cache(maxsize=2**20)\n",
    "def next_gen(m):\n",
    "    \"\"\"Return the 2**k-1 x 2**k-1 successor, 2**k-1 generations in the future\"\"\"    \n",
    "    if m.n==0: # empty\n",
    "        return m.a    \n",
    "    elif m.k == 2:  # base case               \n",
    "        s = life_4x4(m)    \n",
    "    else:\n",
    "        c1 = next_gen(join(m.a.a, m.a.b, m.a.c, m.a.d))\n",
    "        c2 = next_gen(join(m.a.b, m.b.a, m.a.d, m.b.c))\n",
    "        c3 = next_gen(join(m.b.a, m.b.b, m.b.c, m.b.d))\n",
    "        c4 = next_gen(join(m.a.c, m.a.d, m.c.a, m.c.b))        \n",
    "        c5 = next_gen(join(m.a.d, m.b.c, m.c.b, m.d.a))\n",
    "        c6 = next_gen(join(m.b.c, m.b.d, m.d.a, m.d.b))\n",
    "        c7 = next_gen(join(m.c.a, m.c.b, m.c.c, m.c.d))\n",
    "        c8 = next_gen(join(m.c.b, m.d.a, m.c.d, m.d.c))\n",
    "        c9 = next_gen(join(m.d.a, m.d.b, m.d.c, m.d.d))\n",
    "        \n",
    "        s = join(\n",
    "            (join(c1.d, c2.c, c4.b, c5.a)),\n",
    "            (join(c2.d, c3.c, c5.b, c6.a)),\n",
    "            (join(c4.d, c5.c, c7.b, c8.a)),\n",
    "            (join(c5.d, c6.c, c8.b, c9.a)),\n",
    "        )                    \n",
    "    return s\n",
    "\n",
    "\n",
    "@lru_cache(maxsize=2**24)\n",
    "def successor(m):    \n",
    "    \"\"\"Return the 2**k-1 x 2**k-1 successor, 2**k-1 generations in the future\"\"\"    \n",
    "    if m.n==0: # empty\n",
    "        return m.a    \n",
    "    elif m.k == 2:  # base case               \n",
    "        s = life_4x4(m)    \n",
    "    else:\n",
    "        c1 = successor(join(m.a.a, m.a.b, m.a.c, m.a.d))\n",
    "        c2 = successor(join(m.a.b, m.b.a, m.a.d, m.b.c))\n",
    "        c3 = successor(join(m.b.a, m.b.b, m.b.c, m.b.d))\n",
    "        c4 = successor(join(m.a.c, m.a.d, m.c.a, m.c.b))        \n",
    "        c5 = successor(join(m.a.d, m.b.c, m.c.b, m.d.a))\n",
    "        c6 = successor(join(m.b.c, m.b.d, m.d.a, m.d.b))\n",
    "        c7 = successor(join(m.c.a, m.c.b, m.c.c, m.c.d))\n",
    "        c8 = successor(join(m.c.b, m.d.a, m.c.d, m.d.c))\n",
    "        c9 = successor(join(m.d.a, m.d.b, m.d.c, m.d.d))\n",
    "\n",
    "        s = join(\n",
    "            successor(join(c1, c2, c4, c5)),\n",
    "            successor(join(c2, c3, c5, c6)),\n",
    "            successor(join(c4, c5, c7, c8)),\n",
    "            successor(join(c5, c6, c8, c9)),\n",
    "        )   \n",
    "    return s\n",
    "\n"
   ]
  },
  {
   "cell_type": "code",
   "execution_count": 425,
   "metadata": {
    "ExecuteTime": {
     "end_time": "2020-03-08T21:14:58.814045Z",
     "start_time": "2020-03-08T21:14:58.537837Z"
    }
   },
   "outputs": [
    {
     "data": {
      "image/png": "[encoded data removed]",
      "text/plain": [
       "<Figure size 1440x1440 with 1 Axes>"
      ]
     },
     "metadata": {
      "needs_background": "light"
     },
     "output_type": "display_data"
    }
   ],
   "source": []
  },
  {
   "cell_type": "code",
   "execution_count": 437,
   "metadata": {
    "ExecuteTime": {
     "end_time": "2020-03-08T22:02:21.794833Z",
     "start_time": "2020-03-08T22:02:21.766528Z"
    }
   },
   "outputs": [],
   "source": [
    "@lru_cache(maxsize=2**24)\n",
    "\n",
    "def variable_step(m, j):\n",
    "    \"\"\"Return the 2**k-1 x 2**k-1 successor, 2**j generations in the future\"\"\"        \n",
    "    if m.n==0: # empty\n",
    "        return m.a    \n",
    "    elif m.k == 2:  # base case               \n",
    "        s = life_4x4(m)    \n",
    "    else:        \n",
    "        c1 = variable_step(join(m.a.a, m.a.b, m.a.c, m.a.d), j)\n",
    "        c2 = variable_step(join(m.a.b, m.b.a, m.a.d, m.b.c), j)\n",
    "        c3 = variable_step(join(m.b.a, m.b.b, m.b.c, m.b.d), j)\n",
    "        c4 = variable_step(join(m.a.c, m.a.d, m.c.a, m.c.b), j)        \n",
    "        c5 = variable_step(join(m.a.d, m.b.c, m.c.b, m.d.a), j)\n",
    "        c6 = variable_step(join(m.b.c, m.b.d, m.d.a, m.d.b), j)\n",
    "        c7 = variable_step(join(m.c.a, m.c.b, m.c.c, m.c.d), j)\n",
    "        c8 = variable_step(join(m.c.b, m.d.a, m.c.d, m.d.c), j)\n",
    "        c9 = variable_step(join(m.d.a, m.d.b, m.d.c, m.d.d), j)\n",
    "        \n",
    "        if j < m.k - 2:\n",
    "            return join(\n",
    "                (join(c1.d, c2.c, c4.b, c5.a)),\n",
    "                (join(c2.d, c3.c, c5.b, c6.a)),\n",
    "                (join(c4.d, c5.c, c7.b, c8.a)),\n",
    "                (join(c5.d, c6.c, c8.b, c9.a)),\n",
    "            )    \n",
    "        else:\n",
    "            return join(\n",
    "            variable_step(join(c1, c2, c4, c5), j),\n",
    "            variable_step(join(c2, c3, c5, c6), j),\n",
    "            variable_step(join(c4, c5, c7, c8), j),\n",
    "            variable_step(join(c5, c6, c8, c9), j),\n",
    "        )   \n",
    "                \n",
    "    return s"
   ]
  },
  {
   "cell_type": "code",
   "execution_count": 438,
   "metadata": {
    "ExecuteTime": {
     "end_time": "2020-03-08T22:02:23.902990Z",
     "start_time": "2020-03-08T22:02:22.311135Z"
    }
   },
   "outputs": [
    {
     "data": {
      "text/plain": [
       "Node 131072 x 131072, population 5654578"
      ]
     },
     "execution_count": 438,
     "metadata": {},
     "output_type": "execute_result"
    },
    {
     "data": {
      "image/png": "[encoded data removed]",
      "text/plain": [
       "<Figure size 1440x1440 with 1 Axes>"
      ]
     },
     "metadata": {
      "needs_background": "light"
     },
     "output_type": "display_data"
    }
   ],
   "source": [
    "pat = load_lif(\"lifep/breeder.lif\")\n",
    "#show_gray(expand(pat))\n",
    "p = centre(centre(centre(centre(centre(centre(centre(centre(centre(centre(centre(pat)))))))))))\n",
    "pn = variable_step(p, 16)\n",
    "pn = variable_step(pn, 3)\n",
    "pn = variable_step(pn, 1)\n",
    "pn = variable_step(pn, 0)\n",
    "show_gray(expand(pn, level=6))\n",
    "\n",
    "pn\n"
   ]
  },
  {
   "cell_type": "code",
   "execution_count": 301,
   "metadata": {
    "ExecuteTime": {
     "end_time": "2020-03-08T20:36:06.871903Z",
     "start_time": "2020-03-08T20:36:06.861166Z"
    }
   },
   "outputs": [],
   "source": [
    "def advance(m, g):\n",
    "    \"\"\"Return the 2**k-1 x 2**k-1 sub node, g generations in the future\"\"\"    \n",
    "    k_bit = (g >> (m.k - 2)) & 1        \n",
    "    if m.n==0: # empty\n",
    "        return m.a    \n",
    "    elif m.k == 2:  # base case       \n",
    "        s = successor(m) if k_bit else subnode(m)        \n",
    "    else:\n",
    "        c1 = advance(join(m.a.a, m.a.b, m.a.c, m.a.d), g)\n",
    "        c2 = advance(join(m.a.b, m.b.a, m.a.d, m.b.c), g)\n",
    "        c3 = advance(join(m.b.a, m.b.b, m.b.c, m.b.d), g)\n",
    "        c4 = advance(join(m.a.c, m.a.d, m.c.a, m.c.b), g)        \n",
    "        c5 = advance(join(m.a.d, m.b.c, m.c.b, m.d.a), g)\n",
    "        c6 = advance(join(m.b.c, m.b.d, m.d.a, m.d.b), g)\n",
    "        c7 = advance(join(m.c.a, m.c.b, m.c.c, m.c.d), g)\n",
    "        c8 = advance(join(m.c.b, m.d.a, m.c.d, m.d.c), g)\n",
    "        c9 = advance(join(m.d.a, m.d.b, m.d.c, m.d.d), g)\n",
    "        \n",
    "        if k_bit:\n",
    "            s = join(\n",
    "                successor(join(c1, c2, c4, c5)),\n",
    "                successor(join(c2, c3, c5, c6)),\n",
    "                successor(join(c4, c5, c7, c8)),\n",
    "                successor(join(c5, c6, c8, c9)),\n",
    "            )  \n",
    "        else:            \n",
    "            s = join(\n",
    "                (join(c1.d, c2.c, c4.b, c5.a)),\n",
    "                (join(c2.d, c3.c, c5.b, c6.a)),\n",
    "                (join(c4.d, c5.c, c7.b, c8.a)),\n",
    "                (join(c5.d, c6.c, c8.b, c9.a)),\n",
    "            )    \n",
    "\n",
    "    return s"
   ]
  },
  {
   "cell_type": "code",
   "execution_count": 315,
   "metadata": {
    "ExecuteTime": {
     "end_time": "2020-03-08T20:49:43.548666Z",
     "start_time": "2020-03-08T20:49:43.543786Z"
    }
   },
   "outputs": [
    {
     "data": {
      "text/plain": [
       "Node 64 x 64, population 45"
      ]
     },
     "execution_count": 315,
     "metadata": {},
     "output_type": "execute_result"
    }
   ],
   "source": []
  },
  {
   "cell_type": "code",
   "execution_count": 261,
   "metadata": {
    "ExecuteTime": {
     "end_time": "2020-03-08T20:13:23.560554Z",
     "start_time": "2020-03-08T20:13:23.552746Z"
    }
   },
   "outputs": [],
   "source": [
    "def construct(pt_list):\n",
    "    \"\"\"Turn a list of (x,y) coordinates into a quadtree, by bottom-up construction\"\"\"\n",
    "    # Force start at (0,0)\n",
    "    min_x = min(*[x for x, y in pt_list])\n",
    "    min_y = min(*[y for x, y in pt_list])\n",
    "    pattern = {(x - min_x, y - min_y): on for x, y in pt_list}\n",
    "    k = 0\n",
    "    while len(pattern) != 1:\n",
    "        # bottom-up construction\n",
    "        next_level = {}\n",
    "        z = get_zero(k)\n",
    "        while len(pattern) > 0:\n",
    "            x, y = next(iter(pattern))\n",
    "            x_q, y_q = x - (x & 1), y - (y & 1)\n",
    "            # read all 2x2 neighbours, removing from those to work through\n",
    "            # at least one of these must exist by definition\n",
    "            a = pattern.pop((x_q, y_q), z)\n",
    "            b = pattern.pop((x_q + 1, y_q), z)\n",
    "            c = pattern.pop((x_q, y_q + 1), z)\n",
    "            d = pattern.pop((x_q + 1, y_q + 1), z)\n",
    "            next_level[x_q >> 1, y_q >> 1] = join(a, b, c, d)\n",
    "        # merge at the next level\n",
    "        pattern = next_level\n",
    "        k += 1\n",
    "    return pattern.popitem()[1]"
   ]
  },
  {
   "cell_type": "code",
   "execution_count": 262,
   "metadata": {
    "ExecuteTime": {
     "end_time": "2020-03-08T20:13:23.693290Z",
     "start_time": "2020-03-08T20:13:23.683530Z"
    }
   },
   "outputs": [],
   "source": [
    "def expand(node, x=0, y=0, clip=None, level=0):\n",
    "    if node.n==0: # quick zero check\n",
    "        return []    \n",
    "    size = 2 ** node.k\n",
    "    # bounds check\n",
    "    if clip is not None:\n",
    "        if x + size < clip[0] or x > clip[1] or y + size < clip[2] or y > clip[3]:\n",
    "            return []\n",
    "    if node.k == level:\n",
    "        # base case: return the gray level of this node\n",
    "        return [(x >> level, y >> level, node.n / (size ** 2))] if node.n > 0 else []\n",
    "    else:\n",
    "        # return all points contained inside this cell\n",
    "        offset = size >> 1\n",
    "        return (\n",
    "            expand(node.a, x=x, y=y, clip=clip, level=level)\n",
    "            + expand(node.b, x=x + offset, y=y, clip=clip, level=level)\n",
    "            + expand(node.c, x=x, y=y + offset, clip=clip, level=level)\n",
    "            + expand(node.d, x=x + offset, y=y + offset, clip=clip, level=level)\n",
    "        )\n",
    "        "
   ]
  },
  {
   "cell_type": "code",
   "execution_count": 263,
   "metadata": {
    "ExecuteTime": {
     "end_time": "2020-03-08T20:13:23.827002Z",
     "start_time": "2020-03-08T20:13:23.822122Z"
    }
   },
   "outputs": [],
   "source": [
    "def print_points(points):    \n",
    "    px, py = 0, 0\n",
    "    for x, y, gray in sorted(points, key=lambda x:(x[1], x[0])):\n",
    "        while y>py:\n",
    "            print()\n",
    "            py += 1\n",
    "            px = 0\n",
    "        while x>px:\n",
    "            print(\" \", end=\"\")\n",
    "            px += 1\n",
    "        print(\"*\", end=\"\")                            \n",
    "    "
   ]
  },
  {
   "cell_type": "code",
   "execution_count": 264,
   "metadata": {
    "ExecuteTime": {
     "end_time": "2020-03-08T20:13:24.076857Z",
     "start_time": "2020-03-08T20:13:24.071978Z"
    }
   },
   "outputs": [
    {
     "name": "stdout",
     "output_type": "stream",
     "text": [
      "* * *\n",
      "*\n",
      "  *"
     ]
    }
   ],
   "source": [
    "qtree = construct([(0,0), (1,0), (2,0), (0, 1), (2,2)])\n",
    "print_points(expand((qtree)))"
   ]
  },
  {
   "cell_type": "code",
   "execution_count": 308,
   "metadata": {
    "ExecuteTime": {
     "end_time": "2020-03-08T20:38:38.343989Z",
     "start_time": "2020-03-08T20:38:38.338133Z"
    }
   },
   "outputs": [],
   "source": [
    "def ffwd(node, n):    \n",
    "    for i in range(n):       \n",
    "        while (node.k < 3 or node.a.n != node.a.d.d.n or\n",
    "                node.b.n != node.b.c.c.n or\n",
    "                node.c.n != node.c.b.b.n or\n",
    "                node.d.n != node.d.a.a.n):\n",
    "                node = centre(node)    \n",
    "        node = successor(node)\n",
    "    return node\n",
    "\n",
    "def warp(node, n):\n",
    "    # ensure a large enough space\n",
    "    while (2 << node.k) < n:\n",
    "        node = centre(node)     \n",
    "    node = centre(centre(node))    \n",
    "    return  advance(node, n<<1)    "
   ]
  },
  {
   "cell_type": "code",
   "execution_count": 311,
   "metadata": {
    "ExecuteTime": {
     "end_time": "2020-03-08T20:38:48.508041Z",
     "start_time": "2020-03-08T20:38:48.476809Z"
    }
   },
   "outputs": [
    {
     "data": {
      "text/plain": [
       "Node 262144 x 262144, population 89005996"
      ]
     },
     "execution_count": 311,
     "metadata": {},
     "output_type": "execute_result"
    }
   ],
   "source": [
    "from lifeparsers import autoguess_life_file\n",
    "\n",
    "def load_lif(fname):\n",
    "    pat, comments = autoguess_life_file(fname)\n",
    "    return construct(pat)\n",
    "    \n",
    "ffwd(load_lif(\"lifep/breeder.lif\"), 8)"
   ]
  },
  {
   "cell_type": "code",
   "execution_count": 441,
   "metadata": {
    "ExecuteTime": {
     "end_time": "2020-03-08T22:03:08.657414Z",
     "start_time": "2020-03-08T22:03:08.652535Z"
    }
   },
   "outputs": [
    {
     "data": {
      "text/plain": [
       "CacheInfo(hits=548425, misses=68659, maxsize=16777216, currsize=68659)"
      ]
     },
     "execution_count": 441,
     "metadata": {},
     "output_type": "execute_result"
    }
   ],
   "source": [
    "variable_step.cache_info()"
   ]
  },
  {
   "cell_type": "code",
   "execution_count": 439,
   "metadata": {
    "ExecuteTime": {
     "end_time": "2020-03-08T22:02:54.282905Z",
     "start_time": "2020-03-08T22:02:53.999864Z"
    }
   },
   "outputs": [
    {
     "data": {
      "image/png": "[encoded data removed]",
      "text/plain": [
       "<Figure size 1440x1440 with 1 Axes>"
      ]
     },
     "metadata": {
      "needs_background": "light"
     },
     "output_type": "display_data"
    }
   ],
   "source": [
    "import numpy as np\n",
    "import matplotlib.pyplot as plt\n",
    "%matplotlib inline\n",
    "\n",
    "def show_gray(pts):\n",
    "    pts = np.array(pts)\n",
    "    pts[:,0] -= np.min(pts[:,0])\n",
    "    pts[:,1] -= np.min(pts[:,1])\n",
    "    grays = np.zeros((int(np.max(pts[:,1]+1)), int(np.max(pts[:,0]+1))))\n",
    "    \n",
    "    for x, y, g in pts:\n",
    "        grays[int(y), int(x)] = g\n",
    "        \n",
    "    plt.figure(figsize=(20,20))\n",
    "    plt.imshow(grays)\n",
    "   \n",
    "pat = load_lif(\"lifep/gun30.lif\")\n",
    "show_gray(expand(next_gen(next_gen(centre(centre(pat))))))\n",
    "\n",
    "    "
   ]
  },
  {
   "cell_type": "code",
   "execution_count": 110,
   "metadata": {
    "ExecuteTime": {
     "end_time": "2020-03-08T19:13:24.977076Z",
     "start_time": "2020-03-08T19:13:24.972196Z"
    }
   },
   "outputs": [
    {
     "name": "stdout",
     "output_type": "stream",
     "text": [
      "\n",
      "\n",
      "\n",
      "\n",
      "      *\n",
      "     * *\n",
      "     *  *"
     ]
    }
   ],
   "source": [
    "print_points(expand(warp(qtree, 13)))\n",
    "#print_points(expand(k))"
   ]
  },
  {
   "cell_type": "code",
   "execution_count": 228,
   "metadata": {
    "ExecuteTime": {
     "end_time": "2020-03-08T19:45:43.504719Z",
     "start_time": "2020-03-08T19:45:43.500815Z"
    }
   },
   "outputs": [
    {
     "data": {
      "text/plain": [
       "CacheInfo(hits=0, misses=0, maxsize=16777216, currsize=0)"
      ]
     },
     "execution_count": 228,
     "metadata": {},
     "output_type": "execute_result"
    }
   ],
   "source": [
    "successor.cache_info()"
   ]
  },
  {
   "cell_type": "code",
   "execution_count": 47,
   "metadata": {
    "ExecuteTime": {
     "end_time": "2020-03-08T18:49:32.507525Z",
     "start_time": "2020-03-08T18:49:32.502646Z"
    }
   },
   "outputs": [],
   "source": [
    "def validate_tree(qtree):\n",
    "    if qtree.k > 0:\n",
    "        assert qtree.a.k == qtree.b.k == qtree.c.k == qtree.b.k == qtree.k - 1\n",
    "        assert type(qtree).__name__ == \"Node\"\n",
    "        assert type(qtree.a).__name__ == \"Node\"\n",
    "        assert type(qtree.b).__name__ == \"Node\"\n",
    "        assert type(qtree.c).__name__ == \"Node\"\n",
    "        assert type(qtree.d).__name__ == \"Node\"\n",
    "        validate_tree(qtree.a)\n",
    "        validate_tree(qtree.b)\n",
    "        validate_tree(qtree.c)\n",
    "        validate_tree(qtree.d)"
   ]
  },
  {
   "cell_type": "code",
   "execution_count": 48,
   "metadata": {
    "ExecuteTime": {
     "end_time": "2020-03-08T18:49:33.644564Z",
     "start_time": "2020-03-08T18:49:33.640660Z"
    }
   },
   "outputs": [
    {
     "name": "stdout",
     "output_type": "stream",
     "text": [
      "*\n",
      " *\n",
      "  *\n",
      "   *"
     ]
    }
   ],
   "source": [
    "print_points(expand(construct([(1,1), (2,2), (3,3), (4,4)])))"
   ]
  },
  {
   "cell_type": "code",
   "execution_count": 335,
   "metadata": {
    "ExecuteTime": {
     "end_time": "2020-03-08T17:07:01.469788Z",
     "start_time": "2020-03-08T17:07:01.464908Z"
    }
   },
   "outputs": [],
   "source": [
    "def advance_by_bits(node, bits):\n",
    "    assert len(bits)==node.k\n",
    "    if bits[0]==0:\n",
    "        pass\n",
    "    else:\n",
    "        pass\n",
    "    if node.k==k:\n",
    "        return successor(k)\n",
    "\n",
    "def advance(node, n):        \n",
    "    bits = []\n",
    "    while n > 0:\n",
    "        bits.append(n & 1)\n",
    "        n = n >> 1\n",
    "        node = centre(node)\n",
    "    bits = ([0] * (node.k - len(bits))) + bits\n",
    "    advance_by_bits(node, bits)            \n",
    "    return node\n",
    "\n",
    "\n",
    "def subnode(m):\n",
    "    return join(m.a.d, m.b.c, m.c.b, m.d.a)"
   ]
  },
  {
   "cell_type": "code",
   "execution_count": 482,
   "metadata": {
    "ExecuteTime": {
     "end_time": "2020-03-08T17:19:08.988220Z",
     "start_time": "2020-03-08T17:19:08.978460Z"
    }
   },
   "outputs": [],
   "source": [
    "@lru_cache(maxsize=2**20)\n",
    "def next_gen(m):\n",
    "    \"\"\"Return the 2**k-1 x 2**k-1 successor, 2**k-1 generations in the future\"\"\"    \n",
    "    if m.n==0: # empty\n",
    "        return m.a    \n",
    "    elif m.k == 2:  # base case               \n",
    "        s = life_4x4(m)    \n",
    "    else:\n",
    "        c1 = successor(join(m.a.a, m.a.b, m.a.c, m.a.d))\n",
    "        c2 = successor(join(m.a.b, m.b.a, m.a.d, m.b.c))\n",
    "        c3 = successor(join(m.b.a, m.b.b, m.b.c, m.b.d))\n",
    "        c4 = successor(join(m.a.c, m.a.d, m.c.a, m.c.b))        \n",
    "        c5 = successor(join(m.a.d, m.b.c, m.c.b, m.d.a))\n",
    "        c6 = successor(join(m.b.c, m.b.d, m.d.a, m.d.b))\n",
    "        c7 = successor(join(m.c.a, m.c.b, m.c.c, m.c.d))\n",
    "        c8 = successor(join(m.c.b, m.d.a, m.c.d, m.d.c))\n",
    "        c9 = successor(join(m.d.a, m.d.b, m.d.c, m.d.d))\n",
    "        \n",
    "        s = join(\n",
    "            (join(c1.d, c2.c, c4.b, c5.a)),\n",
    "            (join(c2.d, c3.c, c5.b, c6.a)),\n",
    "            (join(c4.d, c5.c, c7.b, c8.a)),\n",
    "            (join(c5.d, c6.c, c8.b, c9.a)),\n",
    "        )    \n",
    "        \n",
    "        \n",
    "    return s"
   ]
  },
  {
   "cell_type": "code",
   "execution_count": 243,
   "metadata": {
    "ExecuteTime": {
     "end_time": "2020-03-08T19:46:47.574161Z",
     "start_time": "2020-03-08T19:46:47.465825Z"
    }
   },
   "outputs": [],
   "source": [
    "from itertools import product\n",
    "\n",
    "# pre-generate all 4x4 successors\n",
    "def product_tree(pieces):\n",
    "    return [join(a, b, c, d) for a, b, c, d in product(pieces, repeat=4)]\n",
    "\n",
    "boot_2x2 = product_tree([on, off])\n",
    "boot_4x4 = product_tree(boot_2x2)\n",
    "centres = [successor(p) for p in boot_4x4]"
   ]
  },
  {
   "cell_type": "code",
   "execution_count": 244,
   "metadata": {
    "ExecuteTime": {
     "end_time": "2020-03-08T19:46:47.600513Z",
     "start_time": "2020-03-08T19:46:47.596609Z"
    }
   },
   "outputs": [
    {
     "data": {
      "text/plain": [
       "CacheInfo(hits=131072, misses=65536, maxsize=16777216, currsize=65536)"
      ]
     },
     "execution_count": 244,
     "metadata": {},
     "output_type": "execute_result"
    }
   ],
   "source": [
    "successor.cache_info()"
   ]
  },
  {
   "cell_type": "code",
   "execution_count": null,
   "metadata": {},
   "outputs": [],
   "source": []
  }
 ],
 "metadata": {
  "kernelspec": {
   "display_name": "Python 3",
   "language": "python",
   "name": "python3"
  },
  "language_info": {
   "codemirror_mode": {
    "name": "ipython",
    "version": 3
   },
   "file_extension": ".py",
   "mimetype": "text/x-python",
   "name": "python",
   "nbconvert_exporter": "python",
   "pygments_lexer": "ipython3",
   "version": "3.7.3"
  },
  "varInspector": {
   "cols": {
    "lenName": 16,
    "lenType": 16,
    "lenVar": 40
   },
   "kernels_config": {
    "python": {
     "delete_cmd_postfix": "",
     "delete_cmd_prefix": "del ",
     "library": "var_list.py",
     "varRefreshCmd": "print(var_dic_list())"
    },
    "r": {
     "delete_cmd_postfix": ") ",
     "delete_cmd_prefix": "rm(",
     "library": "var_list.r",
     "varRefreshCmd": "cat(var_dic_list()) "
    }
   },
   "types_to_exclude": [
    "module",
    "function",
    "builtin_function_or_method",
    "instance",
    "_Feature"
   ],
   "window_display": false
  }
 },
 "nbformat": 4,
 "nbformat_minor": 2
}
