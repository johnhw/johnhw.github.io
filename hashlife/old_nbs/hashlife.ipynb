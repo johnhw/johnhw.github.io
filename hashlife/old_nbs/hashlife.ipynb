{
 "cells": [
  {
   "cell_type": "code",
   "execution_count": 1,
   "metadata": {
    "ExecuteTime": {
     "end_time": "2020-03-09T13:49:14.465342Z",
     "start_time": "2020-03-09T13:49:14.459343Z"
    }
   },
   "outputs": [],
   "source": [
    "from collections import namedtuple\n",
    "from functools import lru_cache\n",
    "\n",
    "_Node = namedtuple(\"Node\", [\"k\", \"a\", \"b\", \"c\", \"d\", \"n\", \"hash\"])\n",
    "\n",
    "class Node(_Node):    \n",
    "     def __hash__(self):\n",
    "        return self.hash\n",
    "    \n",
    "     def __repr__(self):\n",
    "        return f\"Node k={self.k}, {1<<self.k} x {1<<self.k}, population {self.n}\"\n",
    "               \n",
    "# base level binary nodes\n",
    "on = Node(0, None, None, None, None, 1, 1)\n",
    "off = Node(0, None, None, None, None, 0, 0)"
   ]
  },
  {
   "cell_type": "code",
   "execution_count": 9,
   "metadata": {
    "ExecuteTime": {
     "end_time": "2020-03-09T13:49:46.133490Z",
     "start_time": "2020-03-09T13:49:46.129489Z"
    }
   },
   "outputs": [],
   "source": [
    "@lru_cache(maxsize=2**24)\n",
    "def join(a, b, c, d):        \n",
    "    n = a.n + b.n + c.n + d.n\n",
    "    nhash = (\n",
    "            a.k + 2 +\n",
    "            + 5131830419411 * a.hash\n",
    "            + 3758991985019 * b.hash\n",
    "            + 8973110871315 * c.hash\n",
    "            + 4318490180473 * d.hash\n",
    "        ) & ((1 << 63) - 1)    \n",
    "    return Node(a.k + 1, a, b, c, d, n, nhash)    "
   ]
  },
  {
   "cell_type": "code",
   "execution_count": 10,
   "metadata": {
    "ExecuteTime": {
     "end_time": "2020-03-09T13:49:46.483491Z",
     "start_time": "2020-03-09T13:49:46.479491Z"
    }
   },
   "outputs": [],
   "source": [
    "@lru_cache(maxsize=1024)\n",
    "def get_zero(k):\n",
    "    return off if k==0 else join(get_zero(k - 1), get_zero(k - 1), get_zero(k - 1), get_zero(k - 1))\n",
    "\n",
    "def centre(m):\n",
    "    z = get_zero(m.k - 1)  # get the right-sized zero node\n",
    "    return join(\n",
    "        join(z, z, z, m.a), join(z, z, m.b, z), join(z, m.c, z, z), join(m.d, z, z, z)\n",
    "    )\n"
   ]
  },
  {
   "cell_type": "code",
   "execution_count": 11,
   "metadata": {
    "ExecuteTime": {
     "end_time": "2020-03-09T13:49:46.651486Z",
     "start_time": "2020-03-09T13:49:46.641488Z"
    }
   },
   "outputs": [],
   "source": [
    "# life rule, for a 3x3 collection of cells, where E is the centre\n",
    "def life(a, b, c, d, E, f, g, h, i):\n",
    "    outer = sum([t.n for t in [a, b, c, d, f, g, h, i]])\n",
    "    return on if (E.n and outer == 2) or outer == 3 else off\n",
    "\n",
    "def life_4x4(m):\n",
    "    na = life(m.a.a, m.a.b, m.b.a, m.a.c, m.a.d, m.b.c, m.c.a, m.c.b, m.d.a)  # AD\n",
    "    nb = life(m.a.b, m.b.a, m.b.b, m.a.d, m.b.c, m.b.d, m.c.b, m.d.a, m.d.b)  # BC    \n",
    "    nc = life(m.a.c, m.a.d, m.b.c, m.c.a, m.c.b, m.d.a, m.c.c, m.c.d, m.d.c)  # CB\n",
    "    nd = life(m.a.d, m.b.c, m.b.d, m.c.b, m.d.a, m.d.b, m.c.d, m.d.c, m.d.d)  # DA\n",
    "    return join(na, nb, nc, nd)"
   ]
  },
  {
   "cell_type": "code",
   "execution_count": 38,
   "metadata": {
    "ExecuteTime": {
     "end_time": "2020-03-09T13:57:10.278208Z",
     "start_time": "2020-03-09T13:57:10.262208Z"
    }
   },
   "outputs": [],
   "source": [
    "@lru_cache(maxsize=2**24)\n",
    "def successor(m, j=None):\n",
    "    \"\"\"Return the 2**k-1 x 2**k-1 successor, 2**j generations in the future\"\"\"        \n",
    "    if m.n==0: # empty\n",
    "        return m.a    \n",
    "    elif m.k == 2:  # base case               \n",
    "        s = life_4x4(m)    \n",
    "    else:        \n",
    "        c1 = successor(join(m.a.a, m.a.b, m.a.c, m.a.d), j)\n",
    "        c2 = successor(join(m.a.b, m.b.a, m.a.d, m.b.c), j)\n",
    "        c3 = successor(join(m.b.a, m.b.b, m.b.c, m.b.d), j)\n",
    "        c4 = successor(join(m.a.c, m.a.d, m.c.a, m.c.b), j)        \n",
    "        c5 = successor(join(m.a.d, m.b.c, m.c.b, m.d.a), j)\n",
    "        c6 = successor(join(m.b.c, m.b.d, m.d.a, m.d.b), j)\n",
    "        c7 = successor(join(m.c.a, m.c.b, m.c.c, m.c.d), j)\n",
    "        c8 = successor(join(m.c.b, m.d.a, m.c.d, m.d.c), j)\n",
    "        c9 = successor(join(m.d.a, m.d.b, m.d.c, m.d.d), j)\n",
    "        \n",
    "        if j is not None and j < m.k - 2:\n",
    "            return join(\n",
    "                (join(c1.d, c2.c, c4.b, c5.a)),\n",
    "                (join(c2.d, c3.c, c5.b, c6.a)),\n",
    "                (join(c4.d, c5.c, c7.b, c8.a)),\n",
    "                (join(c5.d, c6.c, c8.b, c9.a)),\n",
    "            )    \n",
    "        else:\n",
    "            return join(\n",
    "            successor(join(c1, c2, c4, c5), j),\n",
    "            successor(join(c2, c3, c5, c6), j),\n",
    "            successor(join(c4, c5, c7, c8), j),\n",
    "            successor(join(c5, c6, c8, c9), j),\n",
    "        )                   \n",
    "    return s"
   ]
  },
  {
   "cell_type": "code",
   "execution_count": 39,
   "metadata": {
    "ExecuteTime": {
     "end_time": "2020-03-09T13:57:10.438834Z",
     "start_time": "2020-03-09T13:57:10.430835Z"
    }
   },
   "outputs": [],
   "source": [
    "def construct(pt_list):\n",
    "    \"\"\"Turn a list of (x,y) coordinates into a quadtree, by bottom-up construction\"\"\"\n",
    "    # Force start at (0,0)\n",
    "    min_x = min(*[x for x, y in pt_list])\n",
    "    min_y = min(*[y for x, y in pt_list])\n",
    "    pattern = {(x - min_x, y - min_y): on for x, y in pt_list}\n",
    "    k = 0\n",
    "    while len(pattern) != 1:\n",
    "        # bottom-up construction\n",
    "        next_level = {}\n",
    "        z = get_zero(k)\n",
    "        while len(pattern) > 0:\n",
    "            x, y = next(iter(pattern))\n",
    "            x_q, y_q = x - (x & 1), y - (y & 1)\n",
    "            # read all 2x2 neighbours, removing from those to work through\n",
    "            # at least one of these must exist by definition\n",
    "            a = pattern.pop((x_q, y_q), z)\n",
    "            b = pattern.pop((x_q + 1, y_q), z)\n",
    "            c = pattern.pop((x_q, y_q + 1), z)\n",
    "            d = pattern.pop((x_q + 1, y_q + 1), z)\n",
    "            next_level[x_q >> 1, y_q >> 1] = join(a, b, c, d)\n",
    "        # merge at the next level\n",
    "        pattern = next_level\n",
    "        k += 1\n",
    "    return pattern.popitem()[1]"
   ]
  },
  {
   "cell_type": "code",
   "execution_count": 40,
   "metadata": {
    "ExecuteTime": {
     "end_time": "2020-03-09T13:57:10.588946Z",
     "start_time": "2020-03-09T13:57:10.581937Z"
    }
   },
   "outputs": [],
   "source": [
    "def expand(node, x=0, y=0, clip=None, level=0):\n",
    "    \"\"\"Turn a quadtree a list of (x,y,gray) triples in the rectangle (x,y) -> (clip) (or unlimited if clip is None).    \n",
    "    If `level` is given, quadtree elements at the given level are given as a grayscale level 0.0->1.0, \n",
    "    \"zooming out\" the display.\"\"\"\n",
    "    \n",
    "    if node.n==0: # quick zero check\n",
    "        return []    \n",
    "    size = 2 ** node.k\n",
    "    # bounds check\n",
    "    if clip is not None:\n",
    "        if x + size < clip[0] or x > clip[1] or y + size < clip[2] or y > clip[3]:\n",
    "            return []\n",
    "    if node.k == level:\n",
    "        # base case: return the gray level of this node\n",
    "        return [(x >> level, y >> level, node.n / (size ** 2))] if node.n > 0 else []\n",
    "    else:\n",
    "        # return all points contained inside this cell\n",
    "        offset = size >> 1\n",
    "        return (\n",
    "            expand(node.a, x=x, y=y, clip=clip, level=level)\n",
    "            + expand(node.b, x=x + offset, y=y, clip=clip, level=level)\n",
    "            + expand(node.c, x=x, y=y + offset, clip=clip, level=level)\n",
    "            + expand(node.d, x=x + offset, y=y + offset, clip=clip, level=level)\n",
    "        )        "
   ]
  },
  {
   "cell_type": "code",
   "execution_count": 41,
   "metadata": {
    "ExecuteTime": {
     "end_time": "2020-03-09T13:57:10.738737Z",
     "start_time": "2020-03-09T13:57:10.733735Z"
    }
   },
   "outputs": [],
   "source": [
    "def print_points(points):    \n",
    "    px, py = 0, 0\n",
    "    for x, y, gray in sorted(points, key=lambda x:(x[1], x[0])):\n",
    "        while y>py:\n",
    "            print()\n",
    "            py += 1\n",
    "            px = 0\n",
    "        while x>px:\n",
    "            print(\" \", end=\"\")\n",
    "            px += 1\n",
    "        print(\"*\", end=\"\")                            \n",
    "    "
   ]
  },
  {
   "cell_type": "code",
   "execution_count": 42,
   "metadata": {
    "ExecuteTime": {
     "end_time": "2020-03-09T13:57:10.885879Z",
     "start_time": "2020-03-09T13:57:10.877878Z"
    }
   },
   "outputs": [
    {
     "name": "stdout",
     "output_type": "stream",
     "text": [
      "\n",
      "\n",
      "  * * *\n",
      "  *\n",
      "    *\n",
      "\n",
      "   *\n",
      "  * *\n",
      "  *  *"
     ]
    }
   ],
   "source": [
    "qtree = construct([(0,0), (1,0), (2,0), (0, 1), (2,2)])\n",
    "print_points(expand(centre((qtree))))\n",
    "print()\n",
    "print_points(expand(next_gen(centre(centre((qtree))))))"
   ]
  },
  {
   "cell_type": "code",
   "execution_count": 43,
   "metadata": {
    "ExecuteTime": {
     "end_time": "2020-03-09T13:57:11.035983Z",
     "start_time": "2020-03-09T13:57:11.029980Z"
    }
   },
   "outputs": [],
   "source": [
    "def ffwd(node, n):  \n",
    "    gens = 0\n",
    "    for i in range(n):       \n",
    "        while (node.k < 3 or node.a.n != node.a.d.d.n or\n",
    "                node.b.n != node.b.c.c.n or\n",
    "                node.c.n != node.c.b.b.n or\n",
    "                node.d.n != node.d.a.a.n):\n",
    "                node = centre(node)    \n",
    "        gens += 1 << (node.k-2)\n",
    "        node = successor(node)        \n",
    "    return node, gens\n",
    "\n",
    "def advance(node, n):        \n",
    "    if n==0:\n",
    "        return node        \n",
    "    bits = []    \n",
    "    while n > 0:\n",
    "        bits.append(n & 1)\n",
    "        n = n >> 1\n",
    "        node = centre(node)            \n",
    "    for k, bit in enumerate(reversed(bits)):\n",
    "        j = len(bits) - k  - 1                \n",
    "        if bit:\n",
    "            node = successor(node, j)        \n",
    "    return node\n"
   ]
  },
  {
   "cell_type": "code",
   "execution_count": 50,
   "metadata": {
    "ExecuteTime": {
     "end_time": "2020-03-09T13:57:19.568940Z",
     "start_time": "2020-03-09T13:57:19.544941Z"
    }
   },
   "outputs": [
    {
     "data": {
      "text/plain": [
       "(Node k=42, 4398046511104 x 4398046511104, population 25185954567301246087084,\n",
       " 4398046510080)"
      ]
     },
     "execution_count": 50,
     "metadata": {},
     "output_type": "execute_result"
    }
   ],
   "source": [
    "from lifeparsers import autoguess_life_file\n",
    "\n",
    "def load_lif(fname):\n",
    "    pat, comments = autoguess_life_file(fname)\n",
    "    return construct(pat)\n",
    "    \n",
    "ffwd(load_lif(\"lifep/breeder.lif\"), 32)"
   ]
  },
  {
   "cell_type": "code",
   "execution_count": 24,
   "metadata": {
    "ExecuteTime": {
     "end_time": "2020-03-09T13:53:48.837706Z",
     "start_time": "2020-03-09T13:53:48.657707Z"
    }
   },
   "outputs": [],
   "source": [
    "import numpy as np\n",
    "import matplotlib.pyplot as plt\n",
    "%matplotlib inline\n",
    "\n",
    "def show_gray(pts):\n",
    "    pts = np.array(pts)\n",
    "    pts[:,0] -= np.min(pts[:,0])\n",
    "    pts[:,1] -= np.min(pts[:,1])\n",
    "    grays = np.zeros((int(np.max(pts[:,1]+1)), int(np.max(pts[:,0]+1))))\n",
    "    \n",
    "    for x, y, g in pts:\n",
    "        grays[int(y), int(x)] = g\n",
    "        \n",
    "    plt.figure(figsize=(20,20))\n",
    "    plt.imshow(grays)"
   ]
  },
  {
   "cell_type": "code",
   "execution_count": 89,
   "metadata": {
    "ExecuteTime": {
     "end_time": "2020-03-08T22:30:16.086248Z",
     "start_time": "2020-03-08T22:30:15.824680Z"
    }
   },
   "outputs": [
    {
     "data": {
      "image/png": "[encoded data removed]",
      "text/plain": [
       "<Figure size 1440x1440 with 1 Axes>"
      ]
     },
     "metadata": {
      "needs_background": "light"
     },
     "output_type": "display_data"
    }
   ],
   "source": [
    "    \n",
    "pat = load_lif(\"lifep/gun30.LIF\")\n",
    "show_gray(expand(next_gen(next_gen(centre(centre(pat))))))\n",
    "   "
   ]
  },
  {
   "cell_type": "code",
   "execution_count": 90,
   "metadata": {
    "ExecuteTime": {
     "end_time": "2020-03-08T22:30:32.931011Z",
     "start_time": "2020-03-08T22:30:32.495715Z"
    }
   },
   "outputs": [
    {
     "data": {
      "image/png": "[encoded data removed]",
      "text/plain": [
       "<Figure size 1440x1440 with 1 Axes>"
      ]
     },
     "metadata": {
      "needs_background": "light"
     },
     "output_type": "display_data"
    }
   ],
   "source": [
    "show_gray(expand(successor(centre(centre(centre(pat))))))"
   ]
  },
  {
   "cell_type": "code",
   "execution_count": 91,
   "metadata": {
    "ExecuteTime": {
     "end_time": "2020-03-08T22:42:32.742406Z",
     "start_time": "2020-03-08T22:42:32.223109Z"
    },
    "scrolled": false
   },
   "outputs": [
    {
     "name": "stdout",
     "output_type": "stream",
     "text": [
      "Guessed RLE\n"
     ]
    },
    {
     "data": {
      "image/png": "[encoded data removed]",
      "text/plain": [
       "<Figure size 1440x1440 with 1 Axes>"
      ]
     },
     "metadata": {
      "needs_background": "light"
     },
     "output_type": "display_data"
    }
   ],
   "source": [
    "pat = load_lif(\"pat/slide-o-03f-120.lif\")\n",
    "show_gray(expand(ffwd(pat, 9), level=11))"
   ]
  },
  {
   "cell_type": "code",
   "execution_count": 35,
   "metadata": {
    "ExecuteTime": {
     "end_time": "2020-03-09T13:55:35.139341Z",
     "start_time": "2020-03-09T13:55:34.494191Z"
    }
   },
   "outputs": [
    {
     "data": {
      "image/png": "[encoded data removed]",
      "text/plain": [
       "<Figure size 1440x1440 with 1 Axes>"
      ]
     },
     "metadata": {
      "needs_background": "light"
     },
     "output_type": "display_data"
    },
    {
     "data": {
      "image/png": "[encoded data removed]",
      "text/plain": [
       "<Figure size 1440x1440 with 1 Axes>"
      ]
     },
     "metadata": {
      "needs_background": "light"
     },
     "output_type": "display_data"
    }
   ],
   "source": [
    "pat = load_lif(\"lifep/gun30.lif\")\n",
    "show_gray(expand(pat))\n",
    "show_gray(expand(advance(centre(centre(pat)), 30)))"
   ]
  },
  {
   "cell_type": "code",
   "execution_count": 20,
   "metadata": {
    "ExecuteTime": {
     "end_time": "2020-03-09T13:50:17.940164Z",
     "start_time": "2020-03-09T13:50:17.936159Z"
    }
   },
   "outputs": [
    {
     "data": {
      "text/plain": [
       "CacheInfo(hits=0, misses=0, maxsize=16777216, currsize=0)"
      ]
     },
     "execution_count": 20,
     "metadata": {},
     "output_type": "execute_result"
    }
   ],
   "source": [
    "variable_step.cache_info()"
   ]
  },
  {
   "cell_type": "code",
   "execution_count": 22,
   "metadata": {
    "ExecuteTime": {
     "end_time": "2020-03-09T13:51:00.959194Z",
     "start_time": "2020-03-09T13:51:00.954196Z"
    }
   },
   "outputs": [
    {
     "data": {
      "text/plain": [
       "CacheInfo(hits=561324, misses=52246, maxsize=16777216, currsize=52246)"
      ]
     },
     "execution_count": 22,
     "metadata": {},
     "output_type": "execute_result"
    }
   ],
   "source": [
    "join.cache_info()"
   ]
  },
  {
   "cell_type": "code",
   "execution_count": 21,
   "metadata": {
    "ExecuteTime": {
     "end_time": "2020-03-09T13:50:23.970750Z",
     "start_time": "2020-03-09T13:50:23.966750Z"
    }
   },
   "outputs": [
    {
     "data": {
      "text/plain": [
       "CacheInfo(hits=504184, misses=52222, maxsize=16777216, currsize=52222)"
      ]
     },
     "execution_count": 21,
     "metadata": {},
     "output_type": "execute_result"
    }
   ],
   "source": [
    "successor.cache_info()"
   ]
  },
  {
   "cell_type": "code",
   "execution_count": 495,
   "metadata": {
    "ExecuteTime": {
     "end_time": "2020-03-08T22:29:12.203221Z",
     "start_time": "2020-03-08T22:29:11.374598Z"
    }
   },
   "outputs": [],
   "source": [
    "from itertools import product\n",
    "\n",
    "# pre-generate all 4x4 successors\n",
    "def product_tree(pieces):\n",
    "    return [join(a, b, c, d) for a, b, c, d in product(pieces, repeat=4)]\n",
    "\n",
    "boot_2x2 = product_tree([on, off])\n",
    "boot_4x4 = product_tree(boot_2x2)\n",
    "centres = [variable_step(p, 1) for p in boot_4x4]"
   ]
  },
  {
   "cell_type": "code",
   "execution_count": 244,
   "metadata": {
    "ExecuteTime": {
     "end_time": "2020-03-08T19:46:47.600513Z",
     "start_time": "2020-03-08T19:46:47.596609Z"
    }
   },
   "outputs": [
    {
     "data": {
      "text/plain": [
       "CacheInfo(hits=131072, misses=65536, maxsize=16777216, currsize=65536)"
      ]
     },
     "execution_count": 244,
     "metadata": {},
     "output_type": "execute_result"
    }
   ],
   "source": [
    "successor.cache_info()"
   ]
  },
  {
   "cell_type": "code",
   "execution_count": null,
   "metadata": {},
   "outputs": [],
   "source": []
  }
 ],
 "metadata": {
  "kernelspec": {
   "display_name": "Python 3",
   "language": "python",
   "name": "python3"
  },
  "varInspector": {
   "cols": {
    "lenName": 16,
    "lenType": 16,
    "lenVar": 40
   },
   "kernels_config": {
    "python": {
     "delete_cmd_postfix": "",
     "delete_cmd_prefix": "del ",
     "library": "var_list.py",
     "varRefreshCmd": "print(var_dic_list())"
    },
    "r": {
     "delete_cmd_postfix": ") ",
     "delete_cmd_prefix": "rm(",
     "library": "var_list.r",
     "varRefreshCmd": "cat(var_dic_list()) "
    }
   },
   "types_to_exclude": [
    "module",
    "function",
    "builtin_function_or_method",
    "instance",
    "_Feature"
   ],
   "window_display": false
  }
 },
 "nbformat": 4,
 "nbformat_minor": 2
}
